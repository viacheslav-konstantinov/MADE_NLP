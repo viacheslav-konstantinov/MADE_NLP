{
  "nbformat": 4,
  "nbformat_minor": 0,
  "metadata": {
    "anaconda-cloud": {},
    "colab": {
      "name": "homework03_Neural_Machine_Translation.ipynb",
      "provenance": [],
      "collapsed_sections": [
        "sIF-UfdNVF4T",
        "-QsB0gZOOh8n",
        "rvcfaXNMwBq4",
        "ChsAIl72TtCL",
        "xUzhoCFhb2HC"
      ],
      "machine_shape": "hm",
      "include_colab_link": true
    },
    "kernelspec": {
      "name": "python3",
      "display_name": "Python 3"
    },
    "accelerator": "GPU"
  },
  "cells": [
    {
      "cell_type": "markdown",
      "metadata": {
        "id": "view-in-github",
        "colab_type": "text"
      },
      "source": [
        "<a href=\"https://colab.research.google.com/github/viacheslav-konstantinov/MADE_NLP/blob/master/homework03_Neural_Machine_Translation.ipynb\" target=\"_parent\"><img src=\"https://colab.research.google.com/assets/colab-badge.svg\" alt=\"Open In Colab\"/></a>"
      ]
    },
    {
      "cell_type": "markdown",
      "metadata": {
        "id": "oge5P74nVF11",
        "colab_type": "text"
      },
      "source": [
        "## Homework №3"
      ]
    },
    {
      "cell_type": "markdown",
      "metadata": {
        "id": "xAyJ0jVJVF2F",
        "colab_type": "text"
      },
      "source": [
        "### Neural Machine Translation in the wild\n",
        "In the third homework you are supposed to get the best translation you can for the EN-RU translation task.\n",
        "\n",
        "Basic approach using RNNs as encoder and decoder is implemented for you. \n",
        "\n",
        "Your ultimate task is to use the techniques we've covered, e.g.\n",
        "\n",
        "* Optimization enhancements (e.g. learning rate decay)\n",
        "\n",
        "* CNN encoder (with or without positional encoding)\n",
        "\n",
        "* attention/self-attention mechanism\n",
        "\n",
        "* pretraining the language model\n",
        "\n",
        "* [Byte Pair Encoding](https://github.com/rsennrich/subword-nmt)\n",
        "\n",
        "* or just fine-tunning BERT ;)\n",
        "\n",
        "to improve the translation quality. \n",
        "\n",
        "__Please use at least three different approaches/models and compare them (translation quality/complexity/training and evaluation time).__\n",
        "\n",
        "Write down some summary on your experiments and illustrate it with convergence plots/metrics and your thoughts. Just like you would approach a real problem."
      ]
    },
    {
      "cell_type": "code",
      "metadata": {
        "id": "nyE6ZlxWVF2L",
        "colab_type": "code",
        "outputId": "fd5a4bf6-9aba-4668-c77d-6d165c4f7348",
        "colab": {
          "base_uri": "https://localhost:8080/",
          "height": 305
        }
      },
      "source": [
        "# You might need to install the libraries below. Do it in the desired environment\n",
        "# if you are working locally.\n",
        "\n",
        "! pip install subword-nmt\n",
        "! pip install nltk\n",
        "! pip install torchtext"
      ],
      "execution_count": 2,
      "outputs": [
        {
          "output_type": "stream",
          "text": [
            "Collecting subword-nmt\n",
            "  Downloading https://files.pythonhosted.org/packages/74/60/6600a7bc09e7ab38bc53a48a20d8cae49b837f93f5842a41fe513a694912/subword_nmt-0.3.7-py2.py3-none-any.whl\n",
            "Installing collected packages: subword-nmt\n",
            "Successfully installed subword-nmt-0.3.7\n",
            "Requirement already satisfied: nltk in /usr/local/lib/python3.6/dist-packages (3.2.5)\n",
            "Requirement already satisfied: six in /usr/local/lib/python3.6/dist-packages (from nltk) (1.12.0)\n",
            "Requirement already satisfied: torchtext in /usr/local/lib/python3.6/dist-packages (0.3.1)\n",
            "Requirement already satisfied: tqdm in /usr/local/lib/python3.6/dist-packages (from torchtext) (4.41.1)\n",
            "Requirement already satisfied: numpy in /usr/local/lib/python3.6/dist-packages (from torchtext) (1.18.4)\n",
            "Requirement already satisfied: requests in /usr/local/lib/python3.6/dist-packages (from torchtext) (2.23.0)\n",
            "Requirement already satisfied: torch in /usr/local/lib/python3.6/dist-packages (from torchtext) (1.5.0+cu101)\n",
            "Requirement already satisfied: urllib3!=1.25.0,!=1.25.1,<1.26,>=1.21.1 in /usr/local/lib/python3.6/dist-packages (from requests->torchtext) (1.24.3)\n",
            "Requirement already satisfied: chardet<4,>=3.0.2 in /usr/local/lib/python3.6/dist-packages (from requests->torchtext) (3.0.4)\n",
            "Requirement already satisfied: idna<3,>=2.5 in /usr/local/lib/python3.6/dist-packages (from requests->torchtext) (2.9)\n",
            "Requirement already satisfied: certifi>=2017.4.17 in /usr/local/lib/python3.6/dist-packages (from requests->torchtext) (2020.4.5.1)\n",
            "Requirement already satisfied: future in /usr/local/lib/python3.6/dist-packages (from torch->torchtext) (0.16.0)\n"
          ],
          "name": "stdout"
        }
      ]
    },
    {
      "cell_type": "code",
      "metadata": {
        "id": "L7WMSfJrZUvh",
        "colab_type": "code",
        "outputId": "dda3ead6-e920-4522-8f3a-bb5b6e74ee8a",
        "colab": {
          "base_uri": "https://localhost:8080/",
          "height": 35
        }
      },
      "source": [
        "import os\n",
        "from google.colab import drive\n",
        "drive.mount('/content/drive')"
      ],
      "execution_count": 7,
      "outputs": [
        {
          "output_type": "stream",
          "text": [
            "Drive already mounted at /content/drive; to attempt to forcibly remount, call drive.mount(\"/content/drive\", force_remount=True).\n"
          ],
          "name": "stdout"
        }
      ]
    },
    {
      "cell_type": "code",
      "metadata": {
        "id": "kyDdMZrVVF3T",
        "colab_type": "code",
        "outputId": "d8e07b56-0d84-4cd8-abb3-3ca702c33dc6",
        "colab": {
          "base_uri": "https://localhost:8080/",
          "height": 71
        }
      },
      "source": [
        "# Thanks to YSDA NLP course team for the data\n",
        "# (who thanks tilda and deephack teams for the data in their turn)\n",
        "\n",
        "path_do_data = '../../datasets/Machine_translation_EN_RU/data.txt'\n",
        "if not os.path.exists(path_do_data):\n",
        "    print(\"Dataset not found locally. Downloading from github.\")\n",
        "    !wget https://raw.githubusercontent.com/neychev/made_nlp_course/master/datasets/Machine_translation_EN_RU/data.txt -nc\n",
        "    path_do_data = './data.txt'"
      ],
      "execution_count": 8,
      "outputs": [
        {
          "output_type": "stream",
          "text": [
            "Dataset not found locally. Downloading from github.\n",
            "File ‘data.txt’ already there; not retrieving.\n",
            "\n"
          ],
          "name": "stdout"
        }
      ]
    },
    {
      "cell_type": "code",
      "metadata": {
        "id": "Pi_A27XsVF3r",
        "colab_type": "code",
        "colab": {}
      },
      "source": [
        "import torch\n",
        "import torch.nn as nn\n",
        "import torch.optim as optim\n",
        "\n",
        "import torchtext\n",
        "from torchtext.datasets import TranslationDataset, Multi30k\n",
        "from torchtext.data import Field, BucketIterator\n",
        "\n",
        "import spacy\n",
        "\n",
        "import random\n",
        "import math\n",
        "import time\n",
        "\n",
        "import matplotlib\n",
        "matplotlib.rcParams.update({'figure.figsize': (16, 12), 'font.size': 14})\n",
        "import matplotlib.pyplot as plt\n",
        "%matplotlib inline\n",
        "from IPython.display import clear_output\n",
        "\n",
        "from nltk.tokenize import WordPunctTokenizer\n",
        "from subword_nmt.learn_bpe import learn_bpe\n",
        "from subword_nmt.apply_bpe import BPE\n"
      ],
      "execution_count": 0,
      "outputs": []
    },
    {
      "cell_type": "markdown",
      "metadata": {
        "id": "sIF-UfdNVF4T",
        "colab_type": "text"
      },
      "source": [
        "## Main part - Baseline\n",
        "__Here comes the preprocessing. Do not hesitate to use BPE or more complex preprocessing ;)__"
      ]
    },
    {
      "cell_type": "code",
      "metadata": {
        "id": "jZZZ0c-2VF4X",
        "colab_type": "code",
        "colab": {}
      },
      "source": [
        "tokenizer_W = WordPunctTokenizer()\n",
        "def tokenize(x, tokenizer=tokenizer_W):\n",
        "    return tokenizer.tokenize(x.lower())"
      ],
      "execution_count": 0,
      "outputs": []
    },
    {
      "cell_type": "code",
      "metadata": {
        "id": "K8RzAX1zVF4p",
        "colab_type": "code",
        "colab": {}
      },
      "source": [
        "SRC = Field(tokenize=tokenize,\n",
        "            init_token = '<sos>', \n",
        "            eos_token = '<eos>', \n",
        "            lower = True)\n",
        "\n",
        "TRG = Field(tokenize=tokenize,\n",
        "            init_token = '<sos>', \n",
        "            eos_token = '<eos>', \n",
        "            lower = True)\n",
        "\n",
        "dataset = torchtext.data.TabularDataset(\n",
        "    path=path_do_data,\n",
        "    format='tsv',\n",
        "    fields=[('trg', TRG), ('src', SRC)]\n",
        ")"
      ],
      "execution_count": 0,
      "outputs": []
    },
    {
      "cell_type": "code",
      "metadata": {
        "id": "6OF6BTbMVF4-",
        "colab_type": "code",
        "colab": {}
      },
      "source": [
        "train_data, valid_data, test_data = dataset.split(split_ratio=[0.8, 0.15, 0.05])"
      ],
      "execution_count": 0,
      "outputs": []
    },
    {
      "cell_type": "code",
      "metadata": {
        "id": "GhNBge3NVF5U",
        "colab_type": "code",
        "outputId": "3abf14de-b6bf-45a7-ee54-3bea0da44bf1",
        "colab": {
          "base_uri": "https://localhost:8080/",
          "height": 71
        }
      },
      "source": [
        "print(f\"Number of training examples: {len(train_data.examples)}\")\n",
        "print(f\"Number of validation examples: {len(valid_data.examples)}\")\n",
        "print(f\"Number of testing examples: {len(test_data.examples)}\")"
      ],
      "execution_count": 12,
      "outputs": [
        {
          "output_type": "stream",
          "text": [
            "Number of training examples: 40000\n",
            "Number of validation examples: 2500\n",
            "Number of testing examples: 7500\n"
          ],
          "name": "stdout"
        }
      ]
    },
    {
      "cell_type": "code",
      "metadata": {
        "id": "Y_ntY_eTVF5n",
        "colab_type": "code",
        "colab": {}
      },
      "source": [
        "SRC.build_vocab(train_data, min_freq = 3)\n",
        "TRG.build_vocab(train_data, min_freq = 3)"
      ],
      "execution_count": 0,
      "outputs": []
    },
    {
      "cell_type": "code",
      "metadata": {
        "id": "NX6PWrllVF52",
        "colab_type": "code",
        "outputId": "5e452fbd-f892-40ed-8c78-43c6c940c240",
        "colab": {
          "base_uri": "https://localhost:8080/",
          "height": 53
        }
      },
      "source": [
        "print(f\"Unique tokens in source (ru) vocabulary: {len(SRC.vocab)}\")\n",
        "print(f\"Unique tokens in target (en) vocabulary: {len(TRG.vocab)}\")"
      ],
      "execution_count": 14,
      "outputs": [
        {
          "output_type": "stream",
          "text": [
            "Unique tokens in source (ru) vocabulary: 9241\n",
            "Unique tokens in target (en) vocabulary: 6710\n"
          ],
          "name": "stdout"
        }
      ]
    },
    {
      "cell_type": "markdown",
      "metadata": {
        "id": "BkbIZ6EjVF6M",
        "colab_type": "text"
      },
      "source": [
        "Here are tokens from original (RU) corpus:"
      ]
    },
    {
      "cell_type": "code",
      "metadata": {
        "id": "cvgR3laRVF6Q",
        "colab_type": "code",
        "outputId": "44a528f6-8093-4172-da3c-6129f858f745",
        "colab": {
          "base_uri": "https://localhost:8080/",
          "height": 197
        }
      },
      "source": [
        "SRC.vocab.itos[::1000]"
      ],
      "execution_count": 15,
      "outputs": [
        {
          "output_type": "execute_result",
          "data": {
            "text/plain": [
              "['<unk>',\n",
              " '90',\n",
              " 'роскошных',\n",
              " 'ионическое',\n",
              " 'этажа',\n",
              " 'улучшенный',\n",
              " 'lotus',\n",
              " 'уходить',\n",
              " 'джойоза',\n",
              " 'тонг']"
            ]
          },
          "metadata": {
            "tags": []
          },
          "execution_count": 15
        }
      ]
    },
    {
      "cell_type": "markdown",
      "metadata": {
        "id": "2VEtMzT3VF6f",
        "colab_type": "text"
      },
      "source": [
        "And from target (EN) corpus:"
      ]
    },
    {
      "cell_type": "code",
      "metadata": {
        "id": "peEAZEMDVF6l",
        "colab_type": "code",
        "outputId": "ac25d548-7988-414f-9184-afa643f07856",
        "colab": {
          "base_uri": "https://localhost:8080/",
          "height": 143
        }
      },
      "source": [
        "TRG.vocab.itos[::1000]"
      ],
      "execution_count": 16,
      "outputs": [
        {
          "output_type": "execute_result",
          "data": {
            "text/plain": [
              "['<unk>',\n",
              " 'added',\n",
              " 'bratislava',\n",
              " 'chianti',\n",
              " 'native',\n",
              " 'snowshoe',\n",
              " 'marketplace']"
            ]
          },
          "metadata": {
            "tags": []
          },
          "execution_count": 16
        }
      ]
    },
    {
      "cell_type": "markdown",
      "metadata": {
        "id": "C4C0ZLg9VF6x",
        "colab_type": "text"
      },
      "source": [
        "And here is example from train dataset:"
      ]
    },
    {
      "cell_type": "code",
      "metadata": {
        "id": "nrTQHJwpVF64",
        "colab_type": "code",
        "outputId": "60545a15-7be8-4cf7-e923-776eeec2dcae",
        "colab": {
          "base_uri": "https://localhost:8080/",
          "height": 55
        }
      },
      "source": [
        "print(vars(train_data.examples[9]))"
      ],
      "execution_count": 15,
      "outputs": [
        {
          "output_type": "stream",
          "text": [
            "{'trg': ['ski', 'lodge', 'is', 'a', 'holiday', 'home', 'located', 'in', 'the', 'centre', 'of', 'brides', '-', 'les', '-', 'bains', ',', 'a', '2', '-', 'minute', 'walk', 'from', 'olympe', 'gondola', '.'], 'src': ['дом', 'для', 'отпуска', 'ski', 'lodge', 'находится', 'в', 'центре', 'горнолыжного', 'курорта', 'брид', '-', 'ле', '-', 'бен', ',', 'в', '2', 'минутах', 'ходьбы', 'от', 'гондольного', 'подъемника', 'олимп', '.']}\n"
          ],
          "name": "stdout"
        }
      ]
    },
    {
      "cell_type": "markdown",
      "metadata": {
        "id": "4_rKtVElVF7b",
        "colab_type": "text"
      },
      "source": [
        "Let's check the length distributions:"
      ]
    },
    {
      "cell_type": "code",
      "metadata": {
        "id": "3lhLz_LiVF7l",
        "colab_type": "code",
        "outputId": "32f39565-15b6-4a87-d735-29917f9fdf92",
        "colab": {
          "base_uri": "https://localhost:8080/",
          "height": 299
        }
      },
      "source": [
        "src_length = map(len, [vars(x)['src'] for x in train_data.examples])\n",
        "trg_length = map(len, [vars(x)['trg'] for x in train_data.examples])\n",
        "\n",
        "print('Length distribution in Train data')\n",
        "plt.figure(figsize=[8, 4])\n",
        "plt.subplot(1, 2, 1)\n",
        "plt.title(\"source length\")\n",
        "plt.hist(list(src_length), bins=20);\n",
        "\n",
        "plt.subplot(1, 2, 2)\n",
        "plt.title(\"translation length\")\n",
        "plt.hist(list(trg_length), bins=20);"
      ],
      "execution_count": 17,
      "outputs": [
        {
          "output_type": "stream",
          "text": [
            "Length distribution in Train data\n"
          ],
          "name": "stdout"
        },
        {
          "output_type": "display_data",
          "data": {
            "image/png": "[encoded data removed]",
            "text/plain": [
              "<Figure size 576x288 with 2 Axes>"
            ]
          },
          "metadata": {
            "tags": [],
            "needs_background": "light"
          }
        }
      ]
    },
    {
      "cell_type": "code",
      "metadata": {
        "id": "_LEELebbVF8F",
        "colab_type": "code",
        "outputId": "f790ae14-3460-4e6d-df48-916c9e453d97",
        "colab": {
          "base_uri": "https://localhost:8080/",
          "height": 299
        }
      },
      "source": [
        "src_length = map(len, [vars(x)['src'] for x in test_data.examples])\n",
        "trg_length = map(len, [vars(x)['trg'] for x in test_data.examples])\n",
        "\n",
        "print('Length distribution in Test data')\n",
        "plt.figure(figsize=[8, 4])\n",
        "plt.subplot(1, 2, 1)\n",
        "plt.title(\"source length\")\n",
        "plt.hist(list(src_length), bins=20);\n",
        "\n",
        "plt.subplot(1, 2, 2)\n",
        "plt.title(\"translation length\")\n",
        "plt.hist(list(trg_length), bins=20);"
      ],
      "execution_count": 18,
      "outputs": [
        {
          "output_type": "stream",
          "text": [
            "Length distribution in Test data\n"
          ],
          "name": "stdout"
        },
        {
          "output_type": "display_data",
          "data": {
            "image/png": "[encoded data removed]",
            "text/plain": [
              "<Figure size 576x288 with 2 Axes>"
            ]
          },
          "metadata": {
            "tags": [],
            "needs_background": "light"
          }
        }
      ]
    },
    {
      "cell_type": "markdown",
      "metadata": {
        "id": "jykDpyycVF8Y",
        "colab_type": "text"
      },
      "source": [
        "### Model side\n",
        "__Here comes simple pipeline of NMT model learning. It almost copies the week03 practice__"
      ]
    },
    {
      "cell_type": "code",
      "metadata": {
        "id": "s09aGYvnVF8a",
        "colab_type": "code",
        "colab": {}
      },
      "source": [
        "device = torch.device('cuda' if torch.cuda.is_available() else 'cpu')"
      ],
      "execution_count": 0,
      "outputs": []
    },
    {
      "cell_type": "code",
      "metadata": {
        "id": "G_gzL9CkVF8x",
        "colab_type": "code",
        "outputId": "15b8e9eb-5ca8-4cb8-839f-6ae377577221",
        "colab": {
          "base_uri": "https://localhost:8080/",
          "height": 35
        }
      },
      "source": [
        "device"
      ],
      "execution_count": 20,
      "outputs": [
        {
          "output_type": "execute_result",
          "data": {
            "text/plain": [
              "device(type='cuda')"
            ]
          },
          "metadata": {
            "tags": []
          },
          "execution_count": 20
        }
      ]
    },
    {
      "cell_type": "code",
      "metadata": {
        "id": "s4XgIkAhVF9N",
        "colab_type": "code",
        "colab": {}
      },
      "source": [
        "def _len_sort_key(x):\n",
        "    return len(x.src)\n",
        "\n",
        "BATCH_SIZE = 128\n",
        "\n",
        "train_iterator, valid_iterator, test_iterator = BucketIterator.splits(\n",
        "    (train_data, valid_data, test_data), \n",
        "    batch_size = BATCH_SIZE, \n",
        "    device = device,\n",
        "    sort_key=_len_sort_key\n",
        ")"
      ],
      "execution_count": 0,
      "outputs": []
    },
    {
      "cell_type": "code",
      "metadata": {
        "id": "lGNiEw3JVF9a",
        "colab_type": "code",
        "outputId": "afc49082-30dc-4e59-fafe-f3fa2ee5e5fa",
        "colab": {
          "base_uri": "https://localhost:8080/",
          "height": 107
        }
      },
      "source": [
        "for x in train_iterator:\n",
        "    break\n",
        "print(x)\n",
        "print(x.src.shape, x.trg.shape)"
      ],
      "execution_count": 22,
      "outputs": [
        {
          "output_type": "stream",
          "text": [
            "\n",
            "[torchtext.data.batch.Batch of size 128]\n",
            "\t[.trg]:[torch.cuda.LongTensor of size 43x128 (GPU 0)]\n",
            "\t[.src]:[torch.cuda.LongTensor of size 42x128 (GPU 0)]\n",
            "torch.Size([42, 128]) torch.Size([43, 128])\n"
          ],
          "name": "stdout"
        }
      ]
    },
    {
      "cell_type": "code",
      "metadata": {
        "id": "44WYW4jk__Y8",
        "colab_type": "code",
        "outputId": "92294499-836b-4414-920a-fd27cffacd9c",
        "colab": {
          "base_uri": "https://localhost:8080/",
          "height": 35
        }
      },
      "source": [
        "%cd \"/content/drive/My Drive/MADE_2019/NLP_3\""
      ],
      "execution_count": 25,
      "outputs": [
        {
          "output_type": "stream",
          "text": [
            "/content/drive/My Drive/MADE_2019/NLP_3\n"
          ],
          "name": "stdout"
        }
      ]
    },
    {
      "cell_type": "code",
      "metadata": {
        "id": "V6DMtrlPVF9k",
        "colab_type": "code",
        "colab": {}
      },
      "source": [
        "import my_network\n",
        "Encoder = my_network.Encoder\n",
        "Decoder = my_network.Decoder\n",
        "Seq2Seq = my_network.Seq2Seq"
      ],
      "execution_count": 0,
      "outputs": []
    },
    {
      "cell_type": "code",
      "metadata": {
        "id": "qCrZcOk2VF9y",
        "colab_type": "code",
        "colab": {}
      },
      "source": [
        "INPUT_DIM = len(SRC.vocab)\n",
        "OUTPUT_DIM = len(TRG.vocab)\n",
        "ENC_EMB_DIM = 256\n",
        "DEC_EMB_DIM = 256\n",
        "HID_DIM = 512\n",
        "N_LAYERS = 2\n",
        "ENC_DROPOUT = 0.5\n",
        "DEC_DROPOUT = 0.5\n",
        "\n",
        "enc = Encoder(INPUT_DIM, ENC_EMB_DIM, HID_DIM, N_LAYERS, ENC_DROPOUT)\n",
        "dec = Decoder(OUTPUT_DIM, DEC_EMB_DIM, HID_DIM, N_LAYERS, DEC_DROPOUT)\n",
        "\n",
        "# dont forget to put the model to the right device\n",
        "model = Seq2Seq(enc, dec, device).to(device)"
      ],
      "execution_count": 0,
      "outputs": []
    },
    {
      "cell_type": "code",
      "metadata": {
        "id": "5_PrQ5PUVF-B",
        "colab_type": "code",
        "outputId": "c83ce5aa-ff5d-4b86-9df1-653eef8c3767",
        "colab": {
          "base_uri": "https://localhost:8080/",
          "height": 251
        }
      },
      "source": [
        "def init_weights(m):\n",
        "    for name, param in m.named_parameters():\n",
        "        nn.init.uniform_(param, -0.08, 0.08)\n",
        "        \n",
        "model.apply(init_weights)"
      ],
      "execution_count": 28,
      "outputs": [
        {
          "output_type": "execute_result",
          "data": {
            "text/plain": [
              "Seq2Seq(\n",
              "  (encoder): Encoder(\n",
              "    (embedding): Embedding(9241, 256)\n",
              "    (rnn): LSTM(256, 512, num_layers=2, dropout=0.5)\n",
              "    (dropout): Dropout(p=0.5, inplace=False)\n",
              "  )\n",
              "  (decoder): Decoder(\n",
              "    (embedding): Embedding(6710, 256)\n",
              "    (rnn): LSTM(256, 512, num_layers=2, dropout=0.5)\n",
              "    (out): Linear(in_features=512, out_features=6710, bias=True)\n",
              "    (dropout): Dropout(p=0.5, inplace=False)\n",
              "  )\n",
              ")"
            ]
          },
          "metadata": {
            "tags": []
          },
          "execution_count": 28
        }
      ]
    },
    {
      "cell_type": "code",
      "metadata": {
        "id": "S-C_I2-dVF-Q",
        "colab_type": "code",
        "outputId": "b429c18b-afd8-45c5-9b93-af4c535b2ed5",
        "colab": {
          "base_uri": "https://localhost:8080/",
          "height": 35
        }
      },
      "source": [
        "def count_parameters(model):\n",
        "    return sum(p.numel() for p in model.parameters() if p.requires_grad)\n",
        "\n",
        "print(f'The model has {count_parameters(model):,} trainable parameters')"
      ],
      "execution_count": 29,
      "outputs": [
        {
          "output_type": "stream",
          "text": [
            "The model has 14,882,102 trainable parameters\n"
          ],
          "name": "stdout"
        }
      ]
    },
    {
      "cell_type": "code",
      "metadata": {
        "id": "aqxS28kNVF-f",
        "colab_type": "code",
        "colab": {}
      },
      "source": [
        "PAD_IDX = TRG.vocab.stoi['<pad>']\n",
        "optimizer = optim.Adam(model.parameters())\n",
        "criterion = nn.CrossEntropyLoss(ignore_index = PAD_IDX)"
      ],
      "execution_count": 0,
      "outputs": []
    },
    {
      "cell_type": "code",
      "metadata": {
        "id": "i96uCOquVF-v",
        "colab_type": "code",
        "colab": {}
      },
      "source": [
        "def train(model, iterator, optimizer, criterion, clip, train_history=None, valid_history=None):\n",
        "    model.train()\n",
        "    \n",
        "    epoch_loss = 0\n",
        "    history = []\n",
        "    for i, batch in enumerate(iterator):\n",
        "        \n",
        "        src = batch.src\n",
        "        trg = batch.trg\n",
        "        \n",
        "        optimizer.zero_grad()\n",
        "        \n",
        "        output = model(src, trg)\n",
        "        \n",
        "        #trg = [trg sent len, batch size]\n",
        "        #output = [trg sent len, batch size, output dim]\n",
        "        \n",
        "        output = output[1:].view(-1, output.shape[-1])\n",
        "        trg = trg[1:].view(-1)\n",
        "        \n",
        "        #trg = [(trg sent len - 1) * batch size]\n",
        "        #output = [(trg sent len - 1) * batch size, output dim]\n",
        "        \n",
        "        loss = criterion(output, trg)\n",
        "        \n",
        "        loss.backward()\n",
        "        \n",
        "        # Let's clip the gradient\n",
        "        torch.nn.utils.clip_grad_norm_(model.parameters(), clip)\n",
        "        \n",
        "        optimizer.step()\n",
        "        \n",
        "        epoch_loss += loss.item()\n",
        "        \n",
        "        history.append(loss.cpu().data.numpy())\n",
        "        if (i+1)%10==0:\n",
        "            fig, ax = plt.subplots(nrows=1, ncols=2, figsize=(12, 8))\n",
        "\n",
        "            clear_output(True)\n",
        "            ax[0].plot(history, label='train loss')\n",
        "            ax[0].set_xlabel('Batch')\n",
        "            ax[0].set_title('Train loss')\n",
        "            if train_history is not None:\n",
        "                ax[1].plot(train_history, label='general train history')\n",
        "                ax[1].set_xlabel('Epoch')\n",
        "            if valid_history is not None:\n",
        "                ax[1].plot(valid_history, label='general valid history')\n",
        "            plt.legend()\n",
        "            \n",
        "            plt.show()\n",
        "\n",
        "        \n",
        "    return epoch_loss / len(iterator)"
      ],
      "execution_count": 0,
      "outputs": []
    },
    {
      "cell_type": "code",
      "metadata": {
        "id": "lITMyugsVF-_",
        "colab_type": "code",
        "colab": {}
      },
      "source": [
        "def evaluate(model, iterator, criterion):\n",
        "    \n",
        "    model.eval()\n",
        "    \n",
        "    epoch_loss = 0\n",
        "    \n",
        "    history = []\n",
        "    \n",
        "    with torch.no_grad():\n",
        "    \n",
        "        for i, batch in enumerate(iterator):\n",
        "\n",
        "            src = batch.src\n",
        "            trg = batch.trg\n",
        "\n",
        "            output = model(src, trg, 0) #turn off teacher forcing\n",
        "\n",
        "            #trg = [trg sent len, batch size]\n",
        "            #output = [trg sent len, batch size, output dim]\n",
        "\n",
        "            output = output[1:].view(-1, output.shape[-1])\n",
        "            trg = trg[1:].view(-1)\n",
        "\n",
        "            #trg = [(trg sent len - 1) * batch size]\n",
        "            #output = [(trg sent len - 1) * batch size, output dim]\n",
        "\n",
        "            loss = criterion(output, trg)\n",
        "            \n",
        "            epoch_loss += loss.item()\n",
        "        \n",
        "    return epoch_loss / len(iterator)"
      ],
      "execution_count": 0,
      "outputs": []
    },
    {
      "cell_type": "code",
      "metadata": {
        "id": "VnFujAOJVF_Z",
        "colab_type": "code",
        "colab": {}
      },
      "source": [
        "def epoch_time(start_time, end_time):\n",
        "    elapsed_time = end_time - start_time\n",
        "    elapsed_mins = int(elapsed_time / 60)\n",
        "    elapsed_secs = int(elapsed_time - (elapsed_mins * 60))\n",
        "    return elapsed_mins, elapsed_secs"
      ],
      "execution_count": 0,
      "outputs": []
    },
    {
      "cell_type": "code",
      "metadata": {
        "id": "BDrNVKFTVF_s",
        "colab_type": "code",
        "colab": {}
      },
      "source": [
        "train_history = []\n",
        "valid_history = []\n",
        "\n",
        "N_EPOCHS = 10\n",
        "CLIP = 1\n",
        "\n",
        "best_valid_loss = float('inf')"
      ],
      "execution_count": 0,
      "outputs": []
    },
    {
      "cell_type": "code",
      "metadata": {
        "id": "TASHvP1qVF_9",
        "colab_type": "code",
        "outputId": "4f725496-75a0-4fff-9f99-96cacdad1566",
        "colab": {
          "base_uri": "https://localhost:8080/",
          "height": 567
        }
      },
      "source": [
        "for epoch in range(N_EPOCHS):\n",
        "    \n",
        "    start_time = time.time()\n",
        "    \n",
        "    train_loss = train(model, train_iterator, optimizer, criterion, CLIP, train_history, valid_history)\n",
        "    valid_loss = evaluate(model, valid_iterator, criterion)\n",
        "    \n",
        "    end_time = time.time()\n",
        "    \n",
        "    epoch_mins, epoch_secs = epoch_time(start_time, end_time)\n",
        "    \n",
        "    if valid_loss < best_valid_loss:\n",
        "        best_valid_loss = valid_loss\n",
        "        torch.save(model.state_dict(), 'tut1-model.pt')\n",
        "    \n",
        "    train_history.append(train_loss)\n",
        "    valid_history.append(valid_loss)\n",
        "    print(f'Epoch: {epoch+1:02} | Time: {epoch_mins}m {epoch_secs}s')\n",
        "    print(f'\\tTrain Loss: {train_loss:.3f} | Train PPL: {math.exp(train_loss):7.3f}')\n",
        "    print(f'\\t Val. Loss: {valid_loss:.3f} |  Val. PPL: {math.exp(valid_loss):7.3f}')"
      ],
      "execution_count": 0,
      "outputs": [
        {
          "output_type": "display_data",
          "data": {
            "image/png": "[encoded data removed]",
            "text/plain": [
              "<Figure size 864x576 with 2 Axes>"
            ]
          },
          "metadata": {
            "tags": [],
            "needs_background": "light"
          }
        },
        {
          "output_type": "stream",
          "text": [
            "Epoch: 10 | Time: 1m 23s\n",
            "\tTrain Loss: 2.909 | Train PPL:  18.342\n",
            "\t Val. Loss: 4.643 |  Val. PPL: 103.884\n"
          ],
          "name": "stdout"
        }
      ]
    },
    {
      "cell_type": "markdown",
      "metadata": {
        "id": "aRWWtNw2VGAX",
        "colab_type": "text"
      },
      "source": [
        "__Let's take a look at our network quality__:"
      ]
    },
    {
      "cell_type": "code",
      "metadata": {
        "id": "cf4XhOj0VGAv",
        "colab_type": "code",
        "colab": {}
      },
      "source": [
        "import utils\n",
        "import imp\n",
        "\n",
        "imp.reload(utils)\n",
        "generate_translation = utils.generate_translation\n",
        "remove_tech_tokens = utils.remove_tech_tokens\n",
        "get_text = utils.get_text\n",
        "flatten = utils.flatten"
      ],
      "execution_count": 0,
      "outputs": []
    },
    {
      "cell_type": "code",
      "metadata": {
        "id": "jFB1cXyJVGBD",
        "colab_type": "code",
        "colab": {}
      },
      "source": [
        "batch = next(iter(test_iterator))"
      ],
      "execution_count": 0,
      "outputs": []
    },
    {
      "cell_type": "code",
      "metadata": {
        "id": "bAErr01mVGBQ",
        "colab_type": "code",
        "outputId": "7908da9b-f56f-43fe-e6ed-c179ae550216",
        "colab": {
          "base_uri": "https://localhost:8080/",
          "height": 125
        }
      },
      "source": [
        "for idx in [1,2]:\n",
        "    src = batch.src[:, idx:idx+1]\n",
        "    trg = batch.trg[:, idx:idx+1]\n",
        "    generate_translation(src, trg, model, TRG.vocab)"
      ],
      "execution_count": 0,
      "outputs": [
        {
          "output_type": "stream",
          "text": [
            "Original: all rooms come with a tv .\n",
            "Generated: each room is equipped with a flat - screen tv .\n",
            "\n",
            "Original: there is a 24 - hour front desk at the property .\n",
            "Generated: 24 - hour front desk .\n",
            "\n"
          ],
          "name": "stdout"
        }
      ]
    },
    {
      "cell_type": "code",
      "metadata": {
        "id": "aDvtLlw0VGBl",
        "colab_type": "code",
        "colab": {}
      },
      "source": [
        "from nltk.translate.bleu_score import corpus_bleu\n",
        "\n",
        "#     \"\"\" Estimates corpora-level BLEU score of model's translations given inp and reference out \"\"\"\n",
        "#     translations, _ = model.translate_lines(inp_lines, **flags)\n",
        "#     # Note: if you experience out-of-memory error, split input lines into batches and translate separately\n",
        "#     return corpus_bleu([[ref] for ref in out_lines], translations) * 100"
      ],
      "execution_count": 0,
      "outputs": []
    },
    {
      "cell_type": "code",
      "metadata": {
        "id": "nUEnRmJYVGB4",
        "colab_type": "code",
        "colab": {}
      },
      "source": [
        "import tqdm"
      ],
      "execution_count": 0,
      "outputs": []
    },
    {
      "cell_type": "code",
      "metadata": {
        "id": "r7oJzTP-VGCH",
        "colab_type": "code",
        "outputId": "9ac995ce-1d32-452b-c1f3-565e6fec1c23",
        "colab": {
          "base_uri": "https://localhost:8080/",
          "height": 35
        }
      },
      "source": [
        "original_text = []\n",
        "generated_text = []\n",
        "model.eval()\n",
        "with torch.no_grad():\n",
        "\n",
        "    for i, batch in tqdm.tqdm(enumerate(test_iterator)):\n",
        "\n",
        "        src = batch.src\n",
        "        trg = batch.trg\n",
        "\n",
        "        output = model(src, trg, 0) #turn off teacher forcing\n",
        "\n",
        "        #trg = [trg sent len, batch size]\n",
        "        #output = [trg sent len, batch size, output dim]\n",
        "\n",
        "        output = output.argmax(dim=-1)\n",
        "        \n",
        "        original_text.extend([get_text(x, TRG.vocab) for x in trg.cpu().numpy().T])\n",
        "        generated_text.extend([get_text(x, TRG.vocab) for x in output[1:].detach().cpu().numpy().T])\n",
        "\n",
        "# original_text = flatten(original_text)\n",
        "# generated_text = flatten(generated_text)"
      ],
      "execution_count": 0,
      "outputs": [
        {
          "output_type": "stream",
          "text": [
            "59it [00:03, 16.75it/s]\n"
          ],
          "name": "stderr"
        }
      ]
    },
    {
      "cell_type": "code",
      "metadata": {
        "id": "n3dTbkc9VGCc",
        "colab_type": "code",
        "outputId": "fa03a4f6-340f-4081-ec25-fedbb194dff2",
        "colab": {
          "base_uri": "https://localhost:8080/",
          "height": 35
        }
      },
      "source": [
        "corpus_bleu([[text] for text in original_text], generated_text) * 100"
      ],
      "execution_count": 0,
      "outputs": [
        {
          "output_type": "execute_result",
          "data": {
            "text/plain": [
              "14.493474507145942"
            ]
          },
          "metadata": {
            "tags": []
          },
          "execution_count": 39
        }
      ]
    },
    {
      "cell_type": "markdown",
      "metadata": {
        "id": "OtFqVWghVGCq",
        "colab_type": "text"
      },
      "source": [
        "Baseline solution BLEU score is quite low. Try to achieve at least __18__ BLEU on the test set. \n",
        "The checkpoints are:\n",
        "\n",
        "* __18__ - minimal score to submit the homework, 30% of points\n",
        "\n",
        "* __20__ - good score, 70% of points\n",
        "\n",
        "* __25__ - excellent score, 100% of points"
      ]
    },
    {
      "cell_type": "markdown",
      "metadata": {
        "id": "XkBi8p2mNaqj",
        "colab_type": "text"
      },
      "source": [
        "### Other model tests\n",
        "\n",
        "The main idea is to try different Transofrmer networks as they seem to be the most appropriate netowrk for the task. Due to the lack of time, I just tried two pretrained models without training them and implemented my own. One could try to train pre-trained models or use something more simple like LSTM, but due to the lack of time, these options were not tested."
      ]
    },
    {
      "cell_type": "markdown",
      "metadata": {
        "id": "-QsB0gZOOh8n",
        "colab_type": "text"
      },
      "source": [
        "## 1. OpenNMT-based Transofmer model"
      ]
    },
    {
      "cell_type": "markdown",
      "metadata": {
        "id": "PciSRFwePZ7e",
        "colab_type": "text"
      },
      "source": [
        "The model below is a OpenNMT-based Transform model taken from here: https://github.com/ManiaCello/en-ru-onmt. The model was train with the courpus formed by mixed data from http://opus.nlpl.eu/ and https://translate.yandex.ru/corpus."
      ]
    },
    {
      "cell_type": "code",
      "metadata": {
        "id": "Cfy0ovSRmFqm",
        "colab_type": "code",
        "outputId": "43832caa-7029-4185-c9dc-88af0ec4d8f8",
        "colab": {
          "base_uri": "https://localhost:8080/",
          "height": 1000
        }
      },
      "source": [
        "!pip install OpenNMT-py"
      ],
      "execution_count": 0,
      "outputs": [
        {
          "output_type": "stream",
          "text": [
            "Collecting OpenNMT-py\n",
            "\u001b[?25l  Downloading https://files.pythonhosted.org/packages/7e/c7/b3d9bf9a6a681b10c00aa897650f79d4e7ad8a80317c5cddb6a3ef43540c/OpenNMT_py-1.1.1-py3-none-any.whl (189kB)\n",
            "\r\u001b[K     |█▊                              | 10kB 26.9MB/s eta 0:00:01\r\u001b[K     |███▌                            | 20kB 1.6MB/s eta 0:00:01\r\u001b[K     |█████▏                          | 30kB 1.9MB/s eta 0:00:01\r\u001b[K     |███████                         | 40kB 2.1MB/s eta 0:00:01\r\u001b[K     |████████▊                       | 51kB 1.9MB/s eta 0:00:01\r\u001b[K     |██████████▍                     | 61kB 2.2MB/s eta 0:00:01\r\u001b[K     |████████████▏                   | 71kB 2.4MB/s eta 0:00:01\r\u001b[K     |█████████████▉                  | 81kB 2.5MB/s eta 0:00:01\r\u001b[K     |███████████████▋                | 92kB 2.5MB/s eta 0:00:01\r\u001b[K     |█████████████████▍              | 102kB 2.7MB/s eta 0:00:01\r\u001b[K     |███████████████████             | 112kB 2.7MB/s eta 0:00:01\r\u001b[K     |████████████████████▉           | 122kB 2.7MB/s eta 0:00:01\r\u001b[K     |██████████████████████▌         | 133kB 2.7MB/s eta 0:00:01\r\u001b[K     |████████████████████████▎       | 143kB 2.7MB/s eta 0:00:01\r\u001b[K     |██████████████████████████      | 153kB 2.7MB/s eta 0:00:01\r\u001b[K     |███████████████████████████▊    | 163kB 2.7MB/s eta 0:00:01\r\u001b[K     |█████████████████████████████▌  | 174kB 2.7MB/s eta 0:00:01\r\u001b[K     |███████████████████████████████▏| 184kB 2.7MB/s eta 0:00:01\r\u001b[K     |████████████████████████████████| 194kB 2.7MB/s \n",
            "\u001b[?25hRequirement already satisfied: six in /usr/local/lib/python3.6/dist-packages (from OpenNMT-py) (1.12.0)\n",
            "Collecting tqdm~=4.30.0\n",
            "\u001b[?25l  Downloading https://files.pythonhosted.org/packages/76/4c/103a4d3415dafc1ddfe6a6624333971756e2d3dd8c6dc0f520152855f040/tqdm-4.30.0-py2.py3-none-any.whl (47kB)\n",
            "\r\u001b[K     |███████                         | 10kB 20.9MB/s eta 0:00:01\r\u001b[K     |█████████████▉                  | 20kB 12.1MB/s eta 0:00:01\r\u001b[K     |████████████████████▉           | 30kB 6.7MB/s eta 0:00:01\r\u001b[K     |███████████████████████████▊    | 40kB 6.0MB/s eta 0:00:01\r\u001b[K     |████████████████████████████████| 51kB 2.8MB/s \n",
            "\u001b[?25hRequirement already satisfied: pyyaml in /usr/local/lib/python3.6/dist-packages (from OpenNMT-py) (3.13)\n",
            "Requirement already satisfied: future in /usr/local/lib/python3.6/dist-packages (from OpenNMT-py) (0.16.0)\n",
            "Requirement already satisfied: torch>=1.4.0 in /usr/local/lib/python3.6/dist-packages (from OpenNMT-py) (1.5.0+cu101)\n",
            "Collecting waitress\n",
            "\u001b[?25l  Downloading https://files.pythonhosted.org/packages/26/d1/5209fb8c764497a592363c47054436a515b47b8c3e4970ddd7184f088857/waitress-1.4.4-py2.py3-none-any.whl (58kB)\n",
            "\u001b[K     |████████████████████████████████| 61kB 3.5MB/s \n",
            "\u001b[?25hRequirement already satisfied: flask in /usr/local/lib/python3.6/dist-packages (from OpenNMT-py) (1.1.2)\n",
            "Requirement already satisfied: tensorboard>=1.14 in /usr/local/lib/python3.6/dist-packages (from OpenNMT-py) (2.2.2)\n",
            "Collecting torchtext==0.4.0\n",
            "\u001b[?25l  Downloading https://files.pythonhosted.org/packages/43/94/929d6bd236a4fb5c435982a7eb9730b78dcd8659acf328fd2ef9de85f483/torchtext-0.4.0-py3-none-any.whl (53kB)\n",
            "\u001b[K     |████████████████████████████████| 61kB 5.0MB/s \n",
            "\u001b[?25hCollecting configargparse\n",
            "\u001b[?25l  Downloading https://files.pythonhosted.org/packages/bb/79/3045743bb26ca2e44a1d317c37395462bfed82dbbd38e69a3280b63696ce/ConfigArgParse-1.2.3.tar.gz (42kB)\n",
            "\u001b[K     |████████████████████████████████| 51kB 3.5MB/s \n",
            "\u001b[?25hCollecting pyonmttok==1.*; platform_system == \"Linux\"\n",
            "\u001b[?25l  Downloading https://files.pythonhosted.org/packages/42/2e/4f589ec5bcf916229bb7374e66e3824b97ae4c8c4ea28c404aed15be3c01/pyonmttok-1.18.4-cp36-cp36m-manylinux1_x86_64.whl (2.2MB)\n",
            "\u001b[K     |████████████████████████████████| 2.2MB 4.0MB/s \n",
            "\u001b[?25hRequirement already satisfied: numpy in /usr/local/lib/python3.6/dist-packages (from torch>=1.4.0->OpenNMT-py) (1.18.4)\n",
            "Requirement already satisfied: Jinja2>=2.10.1 in /usr/local/lib/python3.6/dist-packages (from flask->OpenNMT-py) (2.11.2)\n",
            "Requirement already satisfied: click>=5.1 in /usr/local/lib/python3.6/dist-packages (from flask->OpenNMT-py) (7.1.2)\n",
            "Requirement already satisfied: Werkzeug>=0.15 in /usr/local/lib/python3.6/dist-packages (from flask->OpenNMT-py) (1.0.1)\n",
            "Requirement already satisfied: itsdangerous>=0.24 in /usr/local/lib/python3.6/dist-packages (from flask->OpenNMT-py) (1.1.0)\n",
            "Requirement already satisfied: google-auth-oauthlib<0.5,>=0.4.1 in /usr/local/lib/python3.6/dist-packages (from tensorboard>=1.14->OpenNMT-py) (0.4.1)\n",
            "Requirement already satisfied: protobuf>=3.6.0 in /usr/local/lib/python3.6/dist-packages (from tensorboard>=1.14->OpenNMT-py) (3.10.0)\n",
            "Requirement already satisfied: wheel>=0.26; python_version >= \"3\" in /usr/local/lib/python3.6/dist-packages (from tensorboard>=1.14->OpenNMT-py) (0.34.2)\n",
            "Requirement already satisfied: markdown>=2.6.8 in /usr/local/lib/python3.6/dist-packages (from tensorboard>=1.14->OpenNMT-py) (3.2.2)\n",
            "Requirement already satisfied: absl-py>=0.4 in /usr/local/lib/python3.6/dist-packages (from tensorboard>=1.14->OpenNMT-py) (0.9.0)\n",
            "Requirement already satisfied: google-auth<2,>=1.6.3 in /usr/local/lib/python3.6/dist-packages (from tensorboard>=1.14->OpenNMT-py) (1.7.2)\n",
            "Requirement already satisfied: setuptools>=41.0.0 in /usr/local/lib/python3.6/dist-packages (from tensorboard>=1.14->OpenNMT-py) (47.1.1)\n",
            "Requirement already satisfied: requests<3,>=2.21.0 in /usr/local/lib/python3.6/dist-packages (from tensorboard>=1.14->OpenNMT-py) (2.23.0)\n",
            "Requirement already satisfied: tensorboard-plugin-wit>=1.6.0 in /usr/local/lib/python3.6/dist-packages (from tensorboard>=1.14->OpenNMT-py) (1.6.0.post3)\n",
            "Requirement already satisfied: grpcio>=1.24.3 in /usr/local/lib/python3.6/dist-packages (from tensorboard>=1.14->OpenNMT-py) (1.29.0)\n",
            "Requirement already satisfied: MarkupSafe>=0.23 in /usr/local/lib/python3.6/dist-packages (from Jinja2>=2.10.1->flask->OpenNMT-py) (1.1.1)\n",
            "Requirement already satisfied: requests-oauthlib>=0.7.0 in /usr/local/lib/python3.6/dist-packages (from google-auth-oauthlib<0.5,>=0.4.1->tensorboard>=1.14->OpenNMT-py) (1.3.0)\n",
            "Requirement already satisfied: importlib-metadata; python_version < \"3.8\" in /usr/local/lib/python3.6/dist-packages (from markdown>=2.6.8->tensorboard>=1.14->OpenNMT-py) (1.6.0)\n",
            "Requirement already satisfied: pyasn1-modules>=0.2.1 in /usr/local/lib/python3.6/dist-packages (from google-auth<2,>=1.6.3->tensorboard>=1.14->OpenNMT-py) (0.2.8)\n",
            "Requirement already satisfied: rsa<4.1,>=3.1.4 in /usr/local/lib/python3.6/dist-packages (from google-auth<2,>=1.6.3->tensorboard>=1.14->OpenNMT-py) (4.0)\n",
            "Requirement already satisfied: cachetools<3.2,>=2.0.0 in /usr/local/lib/python3.6/dist-packages (from google-auth<2,>=1.6.3->tensorboard>=1.14->OpenNMT-py) (3.1.1)\n",
            "Requirement already satisfied: idna<3,>=2.5 in /usr/local/lib/python3.6/dist-packages (from requests<3,>=2.21.0->tensorboard>=1.14->OpenNMT-py) (2.9)\n",
            "Requirement already satisfied: urllib3!=1.25.0,!=1.25.1,<1.26,>=1.21.1 in /usr/local/lib/python3.6/dist-packages (from requests<3,>=2.21.0->tensorboard>=1.14->OpenNMT-py) (1.24.3)\n",
            "Requirement already satisfied: chardet<4,>=3.0.2 in /usr/local/lib/python3.6/dist-packages (from requests<3,>=2.21.0->tensorboard>=1.14->OpenNMT-py) (3.0.4)\n",
            "Requirement already satisfied: certifi>=2017.4.17 in /usr/local/lib/python3.6/dist-packages (from requests<3,>=2.21.0->tensorboard>=1.14->OpenNMT-py) (2020.4.5.1)\n",
            "Requirement already satisfied: oauthlib>=3.0.0 in /usr/local/lib/python3.6/dist-packages (from requests-oauthlib>=0.7.0->google-auth-oauthlib<0.5,>=0.4.1->tensorboard>=1.14->OpenNMT-py) (3.1.0)\n",
            "Requirement already satisfied: zipp>=0.5 in /usr/local/lib/python3.6/dist-packages (from importlib-metadata; python_version < \"3.8\"->markdown>=2.6.8->tensorboard>=1.14->OpenNMT-py) (3.1.0)\n",
            "Requirement already satisfied: pyasn1<0.5.0,>=0.4.6 in /usr/local/lib/python3.6/dist-packages (from pyasn1-modules>=0.2.1->google-auth<2,>=1.6.3->tensorboard>=1.14->OpenNMT-py) (0.4.8)\n",
            "Building wheels for collected packages: configargparse\n",
            "  Building wheel for configargparse (setup.py) ... \u001b[?25l\u001b[?25hdone\n",
            "  Created wheel for configargparse: filename=ConfigArgParse-1.2.3-cp36-none-any.whl size=19328 sha256=ae36ea3cef2ca2857345d73e88b15444fc5d38078ed037c89479006694ea8b8f\n",
            "  Stored in directory: /root/.cache/pip/wheels/bd/d6/53/034032da9498bda2385cd50a51a289e88090b5da2d592b1fdf\n",
            "Successfully built configargparse\n",
            "\u001b[31mERROR: spacy 2.2.4 has requirement tqdm<5.0.0,>=4.38.0, but you'll have tqdm 4.30.0 which is incompatible.\u001b[0m\n",
            "Installing collected packages: tqdm, waitress, torchtext, configargparse, pyonmttok, OpenNMT-py\n",
            "  Found existing installation: tqdm 4.41.1\n",
            "    Uninstalling tqdm-4.41.1:\n",
            "      Successfully uninstalled tqdm-4.41.1\n",
            "  Found existing installation: torchtext 0.3.1\n",
            "    Uninstalling torchtext-0.3.1:\n",
            "      Successfully uninstalled torchtext-0.3.1\n",
            "Successfully installed OpenNMT-py-1.1.1 configargparse-1.2.3 pyonmttok-1.18.4 torchtext-0.4.0 tqdm-4.30.0 waitress-1.4.4\n"
          ],
          "name": "stdout"
        },
        {
          "output_type": "display_data",
          "data": {
            "application/vnd.colab-display-data+json": {
              "pip_warning": {
                "packages": [
                  "torchtext",
                  "tqdm"
                ]
              }
            }
          },
          "metadata": {
            "tags": []
          }
        }
      ]
    },
    {
      "cell_type": "code",
      "metadata": {
        "id": "0krUNasRFqtg",
        "colab_type": "code",
        "outputId": "89edc25f-23a8-40fd-9424-2f47b848936f",
        "colab": {
          "base_uri": "https://localhost:8080/",
          "height": 35
        }
      },
      "source": [
        "%cd \"/content/drive/My Drive/MADE_2019/NLP_3\""
      ],
      "execution_count": 0,
      "outputs": [
        {
          "output_type": "stream",
          "text": [
            "/content/drive/My Drive/MADE_2019/NLP_3\n"
          ],
          "name": "stdout"
        }
      ]
    },
    {
      "cell_type": "code",
      "metadata": {
        "id": "2C69BvdOnNBC",
        "colab_type": "code",
        "outputId": "d3021715-e9f4-4f44-af2d-bd45f5dd5faf",
        "colab": {
          "base_uri": "https://localhost:8080/",
          "height": 89
        }
      },
      "source": [
        "!git clone https://github.com/ManiaCello/en-ru-onmt"
      ],
      "execution_count": 0,
      "outputs": [
        {
          "output_type": "stream",
          "text": [
            "Cloning into 'en-ru-onmt'...\n",
            "remote: Enumerating objects: 50, done.\u001b[K\n",
            "remote: Total 50 (delta 0), reused 0 (delta 0), pack-reused 50\u001b[K\n",
            "Unpacking objects: 100% (50/50), done.\n"
          ],
          "name": "stdout"
        }
      ]
    },
    {
      "cell_type": "code",
      "metadata": {
        "id": "FTJECWW-sGJr",
        "colab_type": "code",
        "outputId": "eb421d4c-8e23-4d6b-d63b-c12c8ce0b192",
        "colab": {
          "base_uri": "https://localhost:8080/",
          "height": 35
        }
      },
      "source": [
        "%cd en-ru-onmt"
      ],
      "execution_count": 0,
      "outputs": [
        {
          "output_type": "stream",
          "text": [
            "/content/drive/My Drive/MADE_2019/NLP_3/en-ru-onmt\n"
          ],
          "name": "stdout"
        }
      ]
    },
    {
      "cell_type": "code",
      "metadata": {
        "id": "XdweuZbisMUZ",
        "colab_type": "code",
        "outputId": "c643d1b5-9656-45a1-877a-476d9df5576e",
        "colab": {
          "base_uri": "https://localhost:8080/",
          "height": 179
        }
      },
      "source": [
        "!git clone https://github.com/OpenNMT/OpenNMT-py.git"
      ],
      "execution_count": 0,
      "outputs": [
        {
          "output_type": "stream",
          "text": [
            "Cloning into 'OpenNMT-py'...\n",
            "remote: Enumerating objects: 24, done.\u001b[K\n",
            "remote: Counting objects: 100% (24/24), done.\u001b[K\n",
            "remote: Compressing objects: 100% (20/20), done.\u001b[K\n",
            "remote: Total 15965 (delta 6), reused 10 (delta 4), pack-reused 15941\u001b[K\n",
            "Receiving objects: 100% (15965/15965), 146.74 MiB | 14.09 MiB/s, done.\n",
            "Resolving deltas: 100% (11524/11524), done.\n",
            "Checking out files: 100% (204/204), done.\n",
            "python3: can't open file 'setup.py': [Errno 2] No such file or directory\n"
          ],
          "name": "stdout"
        }
      ]
    },
    {
      "cell_type": "code",
      "metadata": {
        "id": "9FwZeWoUss3n",
        "colab_type": "code",
        "outputId": "d0a99dbb-98c9-49d2-ee70-ac9782a9154b",
        "colab": {
          "base_uri": "https://localhost:8080/",
          "height": 1000
        }
      },
      "source": [
        "%cd OpenNMT-py\n",
        "!python setup.py install\n",
        "%cd .."
      ],
      "execution_count": 0,
      "outputs": [
        {
          "output_type": "stream",
          "text": [
            "/content/drive/My Drive/MADE_2019/NLP_3/en-ru-onmt/OpenNMT-py\n",
            "running install\n",
            "running bdist_egg\n",
            "running egg_info\n",
            "creating OpenNMT_py.egg-info\n",
            "writing OpenNMT_py.egg-info/PKG-INFO\n",
            "writing dependency_links to OpenNMT_py.egg-info/dependency_links.txt\n",
            "writing entry points to OpenNMT_py.egg-info/entry_points.txt\n",
            "writing requirements to OpenNMT_py.egg-info/requires.txt\n",
            "writing top-level names to OpenNMT_py.egg-info/top_level.txt\n",
            "writing manifest file 'OpenNMT_py.egg-info/SOURCES.txt'\n",
            "writing manifest file 'OpenNMT_py.egg-info/SOURCES.txt'\n",
            "installing library code to build/bdist.linux-x86_64/egg\n",
            "running install_lib\n",
            "running build_py\n",
            "creating build\n",
            "creating build/lib\n",
            "creating build/lib/onmt\n",
            "copying onmt/__init__.py -> build/lib/onmt\n",
            "copying onmt/model_builder.py -> build/lib/onmt\n",
            "copying onmt/opts.py -> build/lib/onmt\n",
            "copying onmt/train_single.py -> build/lib/onmt\n",
            "copying onmt/trainer.py -> build/lib/onmt\n",
            "creating build/lib/onmt/bin\n",
            "copying onmt/bin/__init__.py -> build/lib/onmt/bin\n",
            "copying onmt/bin/average_models.py -> build/lib/onmt/bin\n",
            "copying onmt/bin/preprocess.py -> build/lib/onmt/bin\n",
            "copying onmt/bin/release_model.py -> build/lib/onmt/bin\n",
            "copying onmt/bin/server.py -> build/lib/onmt/bin\n",
            "copying onmt/bin/train.py -> build/lib/onmt/bin\n",
            "copying onmt/bin/translate.py -> build/lib/onmt/bin\n",
            "creating build/lib/onmt/decoders\n",
            "copying onmt/decoders/__init__.py -> build/lib/onmt/decoders\n",
            "copying onmt/decoders/cnn_decoder.py -> build/lib/onmt/decoders\n",
            "copying onmt/decoders/decoder.py -> build/lib/onmt/decoders\n",
            "copying onmt/decoders/ensemble.py -> build/lib/onmt/decoders\n",
            "copying onmt/decoders/transformer.py -> build/lib/onmt/decoders\n",
            "creating build/lib/onmt/encoders\n",
            "copying onmt/encoders/__init__.py -> build/lib/onmt/encoders\n",
            "copying onmt/encoders/audio_encoder.py -> build/lib/onmt/encoders\n",
            "copying onmt/encoders/cnn_encoder.py -> build/lib/onmt/encoders\n",
            "copying onmt/encoders/encoder.py -> build/lib/onmt/encoders\n",
            "copying onmt/encoders/ggnn_encoder.py -> build/lib/onmt/encoders\n",
            "copying onmt/encoders/image_encoder.py -> build/lib/onmt/encoders\n",
            "copying onmt/encoders/mean_encoder.py -> build/lib/onmt/encoders\n",
            "copying onmt/encoders/rnn_encoder.py -> build/lib/onmt/encoders\n",
            "copying onmt/encoders/transformer.py -> build/lib/onmt/encoders\n",
            "creating build/lib/onmt/inputters\n",
            "copying onmt/inputters/__init__.py -> build/lib/onmt/inputters\n",
            "copying onmt/inputters/audio_dataset.py -> build/lib/onmt/inputters\n",
            "copying onmt/inputters/datareader_base.py -> build/lib/onmt/inputters\n",
            "copying onmt/inputters/dataset_base.py -> build/lib/onmt/inputters\n",
            "copying onmt/inputters/image_dataset.py -> build/lib/onmt/inputters\n",
            "copying onmt/inputters/inputter.py -> build/lib/onmt/inputters\n",
            "copying onmt/inputters/text_dataset.py -> build/lib/onmt/inputters\n",
            "copying onmt/inputters/vec_dataset.py -> build/lib/onmt/inputters\n",
            "creating build/lib/onmt/models\n",
            "copying onmt/models/__init__.py -> build/lib/onmt/models\n",
            "copying onmt/models/model.py -> build/lib/onmt/models\n",
            "copying onmt/models/model_saver.py -> build/lib/onmt/models\n",
            "copying onmt/models/sru.py -> build/lib/onmt/models\n",
            "copying onmt/models/stacked_rnn.py -> build/lib/onmt/models\n",
            "creating build/lib/onmt/modules\n",
            "copying onmt/modules/__init__.py -> build/lib/onmt/modules\n",
            "copying onmt/modules/average_attn.py -> build/lib/onmt/modules\n",
            "copying onmt/modules/conv_multi_step_attention.py -> build/lib/onmt/modules\n",
            "copying onmt/modules/copy_generator.py -> build/lib/onmt/modules\n",
            "copying onmt/modules/embeddings.py -> build/lib/onmt/modules\n",
            "copying onmt/modules/gate.py -> build/lib/onmt/modules\n",
            "copying onmt/modules/global_attention.py -> build/lib/onmt/modules\n",
            "copying onmt/modules/multi_headed_attn.py -> build/lib/onmt/modules\n",
            "copying onmt/modules/position_ffn.py -> build/lib/onmt/modules\n",
            "copying onmt/modules/source_noise.py -> build/lib/onmt/modules\n",
            "copying onmt/modules/sparse_activations.py -> build/lib/onmt/modules\n",
            "copying onmt/modules/sparse_losses.py -> build/lib/onmt/modules\n",
            "copying onmt/modules/structured_attention.py -> build/lib/onmt/modules\n",
            "copying onmt/modules/util_class.py -> build/lib/onmt/modules\n",
            "copying onmt/modules/weight_norm.py -> build/lib/onmt/modules\n",
            "creating build/lib/onmt/tests\n",
            "copying onmt/tests/__init__.py -> build/lib/onmt/tests\n",
            "copying onmt/tests/test_attention.py -> build/lib/onmt/tests\n",
            "copying onmt/tests/test_audio_dataset.py -> build/lib/onmt/tests\n",
            "copying onmt/tests/test_beam_search.py -> build/lib/onmt/tests\n",
            "copying onmt/tests/test_copy_generator.py -> build/lib/onmt/tests\n",
            "copying onmt/tests/test_embeddings.py -> build/lib/onmt/tests\n",
            "copying onmt/tests/test_greedy_search.py -> build/lib/onmt/tests\n",
            "copying onmt/tests/test_image_dataset.py -> build/lib/onmt/tests\n",
            "copying onmt/tests/test_models.py -> build/lib/onmt/tests\n",
            "copying onmt/tests/test_preprocess.py -> build/lib/onmt/tests\n",
            "copying onmt/tests/test_simple.py -> build/lib/onmt/tests\n",
            "copying onmt/tests/test_structured_attention.py -> build/lib/onmt/tests\n",
            "copying onmt/tests/test_text_dataset.py -> build/lib/onmt/tests\n",
            "copying onmt/tests/test_translation_server.py -> build/lib/onmt/tests\n",
            "copying onmt/tests/utils_for_tests.py -> build/lib/onmt/tests\n",
            "creating build/lib/onmt/translate\n",
            "copying onmt/translate/__init__.py -> build/lib/onmt/translate\n",
            "copying onmt/translate/beam_search.py -> build/lib/onmt/translate\n",
            "copying onmt/translate/decode_strategy.py -> build/lib/onmt/translate\n",
            "copying onmt/translate/greedy_search.py -> build/lib/onmt/translate\n",
            "copying onmt/translate/penalties.py -> build/lib/onmt/translate\n",
            "copying onmt/translate/process_zh.py -> build/lib/onmt/translate\n",
            "copying onmt/translate/translation.py -> build/lib/onmt/translate\n",
            "copying onmt/translate/translation_server.py -> build/lib/onmt/translate\n",
            "copying onmt/translate/translator.py -> build/lib/onmt/translate\n",
            "creating build/lib/onmt/utils\n",
            "copying onmt/utils/__init__.py -> build/lib/onmt/utils\n",
            "copying onmt/utils/alignment.py -> build/lib/onmt/utils\n",
            "copying onmt/utils/cnn_factory.py -> build/lib/onmt/utils\n",
            "copying onmt/utils/distributed.py -> build/lib/onmt/utils\n",
            "copying onmt/utils/earlystopping.py -> build/lib/onmt/utils\n",
            "copying onmt/utils/logging.py -> build/lib/onmt/utils\n",
            "copying onmt/utils/loss.py -> build/lib/onmt/utils\n",
            "copying onmt/utils/misc.py -> build/lib/onmt/utils\n",
            "copying onmt/utils/optimizers.py -> build/lib/onmt/utils\n",
            "copying onmt/utils/parse.py -> build/lib/onmt/utils\n",
            "copying onmt/utils/report_manager.py -> build/lib/onmt/utils\n",
            "copying onmt/utils/rnn_factory.py -> build/lib/onmt/utils\n",
            "copying onmt/utils/statistics.py -> build/lib/onmt/utils\n",
            "creating build/bdist.linux-x86_64\n",
            "creating build/bdist.linux-x86_64/egg\n",
            "creating build/bdist.linux-x86_64/egg/onmt\n",
            "copying build/lib/onmt/__init__.py -> build/bdist.linux-x86_64/egg/onmt\n",
            "copying build/lib/onmt/model_builder.py -> build/bdist.linux-x86_64/egg/onmt\n",
            "copying build/lib/onmt/opts.py -> build/bdist.linux-x86_64/egg/onmt\n",
            "copying build/lib/onmt/train_single.py -> build/bdist.linux-x86_64/egg/onmt\n",
            "copying build/lib/onmt/trainer.py -> build/bdist.linux-x86_64/egg/onmt\n",
            "creating build/bdist.linux-x86_64/egg/onmt/bin\n",
            "copying build/lib/onmt/bin/__init__.py -> build/bdist.linux-x86_64/egg/onmt/bin\n",
            "copying build/lib/onmt/bin/average_models.py -> build/bdist.linux-x86_64/egg/onmt/bin\n",
            "copying build/lib/onmt/bin/preprocess.py -> build/bdist.linux-x86_64/egg/onmt/bin\n",
            "copying build/lib/onmt/bin/release_model.py -> build/bdist.linux-x86_64/egg/onmt/bin\n",
            "copying build/lib/onmt/bin/server.py -> build/bdist.linux-x86_64/egg/onmt/bin\n",
            "copying build/lib/onmt/bin/train.py -> build/bdist.linux-x86_64/egg/onmt/bin\n",
            "copying build/lib/onmt/bin/translate.py -> build/bdist.linux-x86_64/egg/onmt/bin\n",
            "creating build/bdist.linux-x86_64/egg/onmt/decoders\n",
            "copying build/lib/onmt/decoders/__init__.py -> build/bdist.linux-x86_64/egg/onmt/decoders\n",
            "copying build/lib/onmt/decoders/cnn_decoder.py -> build/bdist.linux-x86_64/egg/onmt/decoders\n",
            "copying build/lib/onmt/decoders/decoder.py -> build/bdist.linux-x86_64/egg/onmt/decoders\n",
            "copying build/lib/onmt/decoders/ensemble.py -> build/bdist.linux-x86_64/egg/onmt/decoders\n",
            "copying build/lib/onmt/decoders/transformer.py -> build/bdist.linux-x86_64/egg/onmt/decoders\n",
            "creating build/bdist.linux-x86_64/egg/onmt/encoders\n",
            "copying build/lib/onmt/encoders/__init__.py -> build/bdist.linux-x86_64/egg/onmt/encoders\n",
            "copying build/lib/onmt/encoders/audio_encoder.py -> build/bdist.linux-x86_64/egg/onmt/encoders\n",
            "copying build/lib/onmt/encoders/cnn_encoder.py -> build/bdist.linux-x86_64/egg/onmt/encoders\n",
            "copying build/lib/onmt/encoders/encoder.py -> build/bdist.linux-x86_64/egg/onmt/encoders\n",
            "copying build/lib/onmt/encoders/ggnn_encoder.py -> build/bdist.linux-x86_64/egg/onmt/encoders\n",
            "copying build/lib/onmt/encoders/image_encoder.py -> build/bdist.linux-x86_64/egg/onmt/encoders\n",
            "copying build/lib/onmt/encoders/mean_encoder.py -> build/bdist.linux-x86_64/egg/onmt/encoders\n",
            "copying build/lib/onmt/encoders/rnn_encoder.py -> build/bdist.linux-x86_64/egg/onmt/encoders\n",
            "copying build/lib/onmt/encoders/transformer.py -> build/bdist.linux-x86_64/egg/onmt/encoders\n",
            "creating build/bdist.linux-x86_64/egg/onmt/inputters\n",
            "copying build/lib/onmt/inputters/__init__.py -> build/bdist.linux-x86_64/egg/onmt/inputters\n",
            "copying build/lib/onmt/inputters/audio_dataset.py -> build/bdist.linux-x86_64/egg/onmt/inputters\n",
            "copying build/lib/onmt/inputters/datareader_base.py -> build/bdist.linux-x86_64/egg/onmt/inputters\n",
            "copying build/lib/onmt/inputters/dataset_base.py -> build/bdist.linux-x86_64/egg/onmt/inputters\n",
            "copying build/lib/onmt/inputters/image_dataset.py -> build/bdist.linux-x86_64/egg/onmt/inputters\n",
            "copying build/lib/onmt/inputters/inputter.py -> build/bdist.linux-x86_64/egg/onmt/inputters\n",
            "copying build/lib/onmt/inputters/text_dataset.py -> build/bdist.linux-x86_64/egg/onmt/inputters\n",
            "copying build/lib/onmt/inputters/vec_dataset.py -> build/bdist.linux-x86_64/egg/onmt/inputters\n",
            "creating build/bdist.linux-x86_64/egg/onmt/models\n",
            "copying build/lib/onmt/models/__init__.py -> build/bdist.linux-x86_64/egg/onmt/models\n",
            "copying build/lib/onmt/models/model.py -> build/bdist.linux-x86_64/egg/onmt/models\n",
            "copying build/lib/onmt/models/model_saver.py -> build/bdist.linux-x86_64/egg/onmt/models\n",
            "copying build/lib/onmt/models/sru.py -> build/bdist.linux-x86_64/egg/onmt/models\n",
            "copying build/lib/onmt/models/stacked_rnn.py -> build/bdist.linux-x86_64/egg/onmt/models\n",
            "creating build/bdist.linux-x86_64/egg/onmt/modules\n",
            "copying build/lib/onmt/modules/__init__.py -> build/bdist.linux-x86_64/egg/onmt/modules\n",
            "copying build/lib/onmt/modules/average_attn.py -> build/bdist.linux-x86_64/egg/onmt/modules\n",
            "copying build/lib/onmt/modules/conv_multi_step_attention.py -> build/bdist.linux-x86_64/egg/onmt/modules\n",
            "copying build/lib/onmt/modules/copy_generator.py -> build/bdist.linux-x86_64/egg/onmt/modules\n",
            "copying build/lib/onmt/modules/embeddings.py -> build/bdist.linux-x86_64/egg/onmt/modules\n",
            "copying build/lib/onmt/modules/gate.py -> build/bdist.linux-x86_64/egg/onmt/modules\n",
            "copying build/lib/onmt/modules/global_attention.py -> build/bdist.linux-x86_64/egg/onmt/modules\n",
            "copying build/lib/onmt/modules/multi_headed_attn.py -> build/bdist.linux-x86_64/egg/onmt/modules\n",
            "copying build/lib/onmt/modules/position_ffn.py -> build/bdist.linux-x86_64/egg/onmt/modules\n",
            "copying build/lib/onmt/modules/source_noise.py -> build/bdist.linux-x86_64/egg/onmt/modules\n",
            "copying build/lib/onmt/modules/sparse_activations.py -> build/bdist.linux-x86_64/egg/onmt/modules\n",
            "copying build/lib/onmt/modules/sparse_losses.py -> build/bdist.linux-x86_64/egg/onmt/modules\n",
            "copying build/lib/onmt/modules/structured_attention.py -> build/bdist.linux-x86_64/egg/onmt/modules\n",
            "copying build/lib/onmt/modules/util_class.py -> build/bdist.linux-x86_64/egg/onmt/modules\n",
            "copying build/lib/onmt/modules/weight_norm.py -> build/bdist.linux-x86_64/egg/onmt/modules\n",
            "creating build/bdist.linux-x86_64/egg/onmt/tests\n",
            "copying build/lib/onmt/tests/__init__.py -> build/bdist.linux-x86_64/egg/onmt/tests\n",
            "copying build/lib/onmt/tests/test_attention.py -> build/bdist.linux-x86_64/egg/onmt/tests\n",
            "copying build/lib/onmt/tests/test_audio_dataset.py -> build/bdist.linux-x86_64/egg/onmt/tests\n",
            "copying build/lib/onmt/tests/test_beam_search.py -> build/bdist.linux-x86_64/egg/onmt/tests\n",
            "copying build/lib/onmt/tests/test_copy_generator.py -> build/bdist.linux-x86_64/egg/onmt/tests\n",
            "copying build/lib/onmt/tests/test_embeddings.py -> build/bdist.linux-x86_64/egg/onmt/tests\n",
            "copying build/lib/onmt/tests/test_greedy_search.py -> build/bdist.linux-x86_64/egg/onmt/tests\n",
            "copying build/lib/onmt/tests/test_image_dataset.py -> build/bdist.linux-x86_64/egg/onmt/tests\n",
            "copying build/lib/onmt/tests/test_models.py -> build/bdist.linux-x86_64/egg/onmt/tests\n",
            "copying build/lib/onmt/tests/test_preprocess.py -> build/bdist.linux-x86_64/egg/onmt/tests\n",
            "copying build/lib/onmt/tests/test_simple.py -> build/bdist.linux-x86_64/egg/onmt/tests\n",
            "copying build/lib/onmt/tests/test_structured_attention.py -> build/bdist.linux-x86_64/egg/onmt/tests\n",
            "copying build/lib/onmt/tests/test_text_dataset.py -> build/bdist.linux-x86_64/egg/onmt/tests\n",
            "copying build/lib/onmt/tests/test_translation_server.py -> build/bdist.linux-x86_64/egg/onmt/tests\n",
            "copying build/lib/onmt/tests/utils_for_tests.py -> build/bdist.linux-x86_64/egg/onmt/tests\n",
            "creating build/bdist.linux-x86_64/egg/onmt/translate\n",
            "copying build/lib/onmt/translate/__init__.py -> build/bdist.linux-x86_64/egg/onmt/translate\n",
            "copying build/lib/onmt/translate/beam_search.py -> build/bdist.linux-x86_64/egg/onmt/translate\n",
            "copying build/lib/onmt/translate/decode_strategy.py -> build/bdist.linux-x86_64/egg/onmt/translate\n",
            "copying build/lib/onmt/translate/greedy_search.py -> build/bdist.linux-x86_64/egg/onmt/translate\n",
            "copying build/lib/onmt/translate/penalties.py -> build/bdist.linux-x86_64/egg/onmt/translate\n",
            "copying build/lib/onmt/translate/process_zh.py -> build/bdist.linux-x86_64/egg/onmt/translate\n",
            "copying build/lib/onmt/translate/translation.py -> build/bdist.linux-x86_64/egg/onmt/translate\n",
            "copying build/lib/onmt/translate/translation_server.py -> build/bdist.linux-x86_64/egg/onmt/translate\n",
            "copying build/lib/onmt/translate/translator.py -> build/bdist.linux-x86_64/egg/onmt/translate\n",
            "creating build/bdist.linux-x86_64/egg/onmt/utils\n",
            "copying build/lib/onmt/utils/__init__.py -> build/bdist.linux-x86_64/egg/onmt/utils\n",
            "copying build/lib/onmt/utils/alignment.py -> build/bdist.linux-x86_64/egg/onmt/utils\n",
            "copying build/lib/onmt/utils/cnn_factory.py -> build/bdist.linux-x86_64/egg/onmt/utils\n",
            "copying build/lib/onmt/utils/distributed.py -> build/bdist.linux-x86_64/egg/onmt/utils\n",
            "copying build/lib/onmt/utils/earlystopping.py -> build/bdist.linux-x86_64/egg/onmt/utils\n",
            "copying build/lib/onmt/utils/logging.py -> build/bdist.linux-x86_64/egg/onmt/utils\n",
            "copying build/lib/onmt/utils/loss.py -> build/bdist.linux-x86_64/egg/onmt/utils\n",
            "copying build/lib/onmt/utils/misc.py -> build/bdist.linux-x86_64/egg/onmt/utils\n",
            "copying build/lib/onmt/utils/optimizers.py -> build/bdist.linux-x86_64/egg/onmt/utils\n",
            "copying build/lib/onmt/utils/parse.py -> build/bdist.linux-x86_64/egg/onmt/utils\n",
            "copying build/lib/onmt/utils/report_manager.py -> build/bdist.linux-x86_64/egg/onmt/utils\n",
            "copying build/lib/onmt/utils/rnn_factory.py -> build/bdist.linux-x86_64/egg/onmt/utils\n",
            "copying build/lib/onmt/utils/statistics.py -> build/bdist.linux-x86_64/egg/onmt/utils\n",
            "byte-compiling build/bdist.linux-x86_64/egg/onmt/__init__.py to __init__.cpython-36.pyc\n",
            "byte-compiling build/bdist.linux-x86_64/egg/onmt/model_builder.py to model_builder.cpython-36.pyc\n",
            "byte-compiling build/bdist.linux-x86_64/egg/onmt/opts.py to opts.cpython-36.pyc\n",
            "byte-compiling build/bdist.linux-x86_64/egg/onmt/train_single.py to train_single.cpython-36.pyc\n",
            "byte-compiling build/bdist.linux-x86_64/egg/onmt/trainer.py to trainer.cpython-36.pyc\n",
            "byte-compiling build/bdist.linux-x86_64/egg/onmt/bin/__init__.py to __init__.cpython-36.pyc\n",
            "byte-compiling build/bdist.linux-x86_64/egg/onmt/bin/average_models.py to average_models.cpython-36.pyc\n",
            "byte-compiling build/bdist.linux-x86_64/egg/onmt/bin/preprocess.py to preprocess.cpython-36.pyc\n",
            "byte-compiling build/bdist.linux-x86_64/egg/onmt/bin/release_model.py to release_model.cpython-36.pyc\n",
            "byte-compiling build/bdist.linux-x86_64/egg/onmt/bin/server.py to server.cpython-36.pyc\n",
            "byte-compiling build/bdist.linux-x86_64/egg/onmt/bin/train.py to train.cpython-36.pyc\n",
            "byte-compiling build/bdist.linux-x86_64/egg/onmt/bin/translate.py to translate.cpython-36.pyc\n",
            "byte-compiling build/bdist.linux-x86_64/egg/onmt/decoders/__init__.py to __init__.cpython-36.pyc\n",
            "byte-compiling build/bdist.linux-x86_64/egg/onmt/decoders/cnn_decoder.py to cnn_decoder.cpython-36.pyc\n",
            "byte-compiling build/bdist.linux-x86_64/egg/onmt/decoders/decoder.py to decoder.cpython-36.pyc\n",
            "byte-compiling build/bdist.linux-x86_64/egg/onmt/decoders/ensemble.py to ensemble.cpython-36.pyc\n",
            "byte-compiling build/bdist.linux-x86_64/egg/onmt/decoders/transformer.py to transformer.cpython-36.pyc\n",
            "byte-compiling build/bdist.linux-x86_64/egg/onmt/encoders/__init__.py to __init__.cpython-36.pyc\n",
            "byte-compiling build/bdist.linux-x86_64/egg/onmt/encoders/audio_encoder.py to audio_encoder.cpython-36.pyc\n",
            "byte-compiling build/bdist.linux-x86_64/egg/onmt/encoders/cnn_encoder.py to cnn_encoder.cpython-36.pyc\n",
            "byte-compiling build/bdist.linux-x86_64/egg/onmt/encoders/encoder.py to encoder.cpython-36.pyc\n",
            "byte-compiling build/bdist.linux-x86_64/egg/onmt/encoders/ggnn_encoder.py to ggnn_encoder.cpython-36.pyc\n",
            "byte-compiling build/bdist.linux-x86_64/egg/onmt/encoders/image_encoder.py to image_encoder.cpython-36.pyc\n",
            "byte-compiling build/bdist.linux-x86_64/egg/onmt/encoders/mean_encoder.py to mean_encoder.cpython-36.pyc\n",
            "byte-compiling build/bdist.linux-x86_64/egg/onmt/encoders/rnn_encoder.py to rnn_encoder.cpython-36.pyc\n",
            "byte-compiling build/bdist.linux-x86_64/egg/onmt/encoders/transformer.py to transformer.cpython-36.pyc\n",
            "byte-compiling build/bdist.linux-x86_64/egg/onmt/inputters/__init__.py to __init__.cpython-36.pyc\n",
            "byte-compiling build/bdist.linux-x86_64/egg/onmt/inputters/audio_dataset.py to audio_dataset.cpython-36.pyc\n",
            "byte-compiling build/bdist.linux-x86_64/egg/onmt/inputters/datareader_base.py to datareader_base.cpython-36.pyc\n",
            "byte-compiling build/bdist.linux-x86_64/egg/onmt/inputters/dataset_base.py to dataset_base.cpython-36.pyc\n",
            "byte-compiling build/bdist.linux-x86_64/egg/onmt/inputters/image_dataset.py to image_dataset.cpython-36.pyc\n",
            "byte-compiling build/bdist.linux-x86_64/egg/onmt/inputters/inputter.py to inputter.cpython-36.pyc\n",
            "byte-compiling build/bdist.linux-x86_64/egg/onmt/inputters/text_dataset.py to text_dataset.cpython-36.pyc\n",
            "byte-compiling build/bdist.linux-x86_64/egg/onmt/inputters/vec_dataset.py to vec_dataset.cpython-36.pyc\n",
            "byte-compiling build/bdist.linux-x86_64/egg/onmt/models/__init__.py to __init__.cpython-36.pyc\n",
            "byte-compiling build/bdist.linux-x86_64/egg/onmt/models/model.py to model.cpython-36.pyc\n",
            "byte-compiling build/bdist.linux-x86_64/egg/onmt/models/model_saver.py to model_saver.cpython-36.pyc\n",
            "byte-compiling build/bdist.linux-x86_64/egg/onmt/models/sru.py to sru.cpython-36.pyc\n",
            "byte-compiling build/bdist.linux-x86_64/egg/onmt/models/stacked_rnn.py to stacked_rnn.cpython-36.pyc\n",
            "byte-compiling build/bdist.linux-x86_64/egg/onmt/modules/__init__.py to __init__.cpython-36.pyc\n",
            "byte-compiling build/bdist.linux-x86_64/egg/onmt/modules/average_attn.py to average_attn.cpython-36.pyc\n",
            "byte-compiling build/bdist.linux-x86_64/egg/onmt/modules/conv_multi_step_attention.py to conv_multi_step_attention.cpython-36.pyc\n",
            "byte-compiling build/bdist.linux-x86_64/egg/onmt/modules/copy_generator.py to copy_generator.cpython-36.pyc\n",
            "byte-compiling build/bdist.linux-x86_64/egg/onmt/modules/embeddings.py to embeddings.cpython-36.pyc\n",
            "byte-compiling build/bdist.linux-x86_64/egg/onmt/modules/gate.py to gate.cpython-36.pyc\n",
            "byte-compiling build/bdist.linux-x86_64/egg/onmt/modules/global_attention.py to global_attention.cpython-36.pyc\n",
            "byte-compiling build/bdist.linux-x86_64/egg/onmt/modules/multi_headed_attn.py to multi_headed_attn.cpython-36.pyc\n",
            "byte-compiling build/bdist.linux-x86_64/egg/onmt/modules/position_ffn.py to position_ffn.cpython-36.pyc\n",
            "byte-compiling build/bdist.linux-x86_64/egg/onmt/modules/source_noise.py to source_noise.cpython-36.pyc\n",
            "byte-compiling build/bdist.linux-x86_64/egg/onmt/modules/sparse_activations.py to sparse_activations.cpython-36.pyc\n",
            "byte-compiling build/bdist.linux-x86_64/egg/onmt/modules/sparse_losses.py to sparse_losses.cpython-36.pyc\n",
            "byte-compiling build/bdist.linux-x86_64/egg/onmt/modules/structured_attention.py to structured_attention.cpython-36.pyc\n",
            "byte-compiling build/bdist.linux-x86_64/egg/onmt/modules/util_class.py to util_class.cpython-36.pyc\n",
            "byte-compiling build/bdist.linux-x86_64/egg/onmt/modules/weight_norm.py to weight_norm.cpython-36.pyc\n",
            "byte-compiling build/bdist.linux-x86_64/egg/onmt/tests/__init__.py to __init__.cpython-36.pyc\n",
            "byte-compiling build/bdist.linux-x86_64/egg/onmt/tests/test_attention.py to test_attention.cpython-36.pyc\n",
            "byte-compiling build/bdist.linux-x86_64/egg/onmt/tests/test_audio_dataset.py to test_audio_dataset.cpython-36.pyc\n",
            "byte-compiling build/bdist.linux-x86_64/egg/onmt/tests/test_beam_search.py to test_beam_search.cpython-36.pyc\n",
            "byte-compiling build/bdist.linux-x86_64/egg/onmt/tests/test_copy_generator.py to test_copy_generator.cpython-36.pyc\n",
            "byte-compiling build/bdist.linux-x86_64/egg/onmt/tests/test_embeddings.py to test_embeddings.cpython-36.pyc\n",
            "byte-compiling build/bdist.linux-x86_64/egg/onmt/tests/test_greedy_search.py to test_greedy_search.cpython-36.pyc\n",
            "byte-compiling build/bdist.linux-x86_64/egg/onmt/tests/test_image_dataset.py to test_image_dataset.cpython-36.pyc\n",
            "byte-compiling build/bdist.linux-x86_64/egg/onmt/tests/test_models.py to test_models.cpython-36.pyc\n",
            "byte-compiling build/bdist.linux-x86_64/egg/onmt/tests/test_preprocess.py to test_preprocess.cpython-36.pyc\n",
            "byte-compiling build/bdist.linux-x86_64/egg/onmt/tests/test_simple.py to test_simple.cpython-36.pyc\n",
            "byte-compiling build/bdist.linux-x86_64/egg/onmt/tests/test_structured_attention.py to test_structured_attention.cpython-36.pyc\n",
            "byte-compiling build/bdist.linux-x86_64/egg/onmt/tests/test_text_dataset.py to test_text_dataset.cpython-36.pyc\n",
            "byte-compiling build/bdist.linux-x86_64/egg/onmt/tests/test_translation_server.py to test_translation_server.cpython-36.pyc\n",
            "byte-compiling build/bdist.linux-x86_64/egg/onmt/tests/utils_for_tests.py to utils_for_tests.cpython-36.pyc\n",
            "byte-compiling build/bdist.linux-x86_64/egg/onmt/translate/__init__.py to __init__.cpython-36.pyc\n",
            "byte-compiling build/bdist.linux-x86_64/egg/onmt/translate/beam_search.py to beam_search.cpython-36.pyc\n",
            "byte-compiling build/bdist.linux-x86_64/egg/onmt/translate/decode_strategy.py to decode_strategy.cpython-36.pyc\n",
            "byte-compiling build/bdist.linux-x86_64/egg/onmt/translate/greedy_search.py to greedy_search.cpython-36.pyc\n",
            "byte-compiling build/bdist.linux-x86_64/egg/onmt/translate/penalties.py to penalties.cpython-36.pyc\n",
            "byte-compiling build/bdist.linux-x86_64/egg/onmt/translate/process_zh.py to process_zh.cpython-36.pyc\n",
            "byte-compiling build/bdist.linux-x86_64/egg/onmt/translate/translation.py to translation.cpython-36.pyc\n",
            "byte-compiling build/bdist.linux-x86_64/egg/onmt/translate/translation_server.py to translation_server.cpython-36.pyc\n",
            "byte-compiling build/bdist.linux-x86_64/egg/onmt/translate/translator.py to translator.cpython-36.pyc\n",
            "byte-compiling build/bdist.linux-x86_64/egg/onmt/utils/__init__.py to __init__.cpython-36.pyc\n",
            "byte-compiling build/bdist.linux-x86_64/egg/onmt/utils/alignment.py to alignment.cpython-36.pyc\n",
            "byte-compiling build/bdist.linux-x86_64/egg/onmt/utils/cnn_factory.py to cnn_factory.cpython-36.pyc\n",
            "byte-compiling build/bdist.linux-x86_64/egg/onmt/utils/distributed.py to distributed.cpython-36.pyc\n",
            "byte-compiling build/bdist.linux-x86_64/egg/onmt/utils/earlystopping.py to earlystopping.cpython-36.pyc\n",
            "byte-compiling build/bdist.linux-x86_64/egg/onmt/utils/logging.py to logging.cpython-36.pyc\n",
            "byte-compiling build/bdist.linux-x86_64/egg/onmt/utils/loss.py to loss.cpython-36.pyc\n",
            "byte-compiling build/bdist.linux-x86_64/egg/onmt/utils/misc.py to misc.cpython-36.pyc\n",
            "byte-compiling build/bdist.linux-x86_64/egg/onmt/utils/optimizers.py to optimizers.cpython-36.pyc\n",
            "byte-compiling build/bdist.linux-x86_64/egg/onmt/utils/parse.py to parse.cpython-36.pyc\n",
            "byte-compiling build/bdist.linux-x86_64/egg/onmt/utils/report_manager.py to report_manager.cpython-36.pyc\n",
            "byte-compiling build/bdist.linux-x86_64/egg/onmt/utils/rnn_factory.py to rnn_factory.cpython-36.pyc\n",
            "byte-compiling build/bdist.linux-x86_64/egg/onmt/utils/statistics.py to statistics.cpython-36.pyc\n",
            "creating build/bdist.linux-x86_64/egg/EGG-INFO\n",
            "copying OpenNMT_py.egg-info/PKG-INFO -> build/bdist.linux-x86_64/egg/EGG-INFO\n",
            "copying OpenNMT_py.egg-info/SOURCES.txt -> build/bdist.linux-x86_64/egg/EGG-INFO\n",
            "copying OpenNMT_py.egg-info/dependency_links.txt -> build/bdist.linux-x86_64/egg/EGG-INFO\n",
            "copying OpenNMT_py.egg-info/entry_points.txt -> build/bdist.linux-x86_64/egg/EGG-INFO\n",
            "copying OpenNMT_py.egg-info/requires.txt -> build/bdist.linux-x86_64/egg/EGG-INFO\n",
            "copying OpenNMT_py.egg-info/top_level.txt -> build/bdist.linux-x86_64/egg/EGG-INFO\n",
            "zip_safe flag not set; analyzing archive contents...\n",
            "onmt.tests.__pycache__.test_audio_dataset.cpython-36: module references __file__\n",
            "onmt.tests.__pycache__.test_image_dataset.cpython-36: module references __file__\n",
            "onmt.tests.__pycache__.test_translation_server.cpython-36: module references __file__\n",
            "creating dist\n",
            "creating 'dist/OpenNMT_py-1.1.1-py3.6.egg' and adding 'build/bdist.linux-x86_64/egg' to it\n",
            "removing 'build/bdist.linux-x86_64/egg' (and everything under it)\n",
            "Processing OpenNMT_py-1.1.1-py3.6.egg\n",
            "creating /usr/local/lib/python3.6/dist-packages/OpenNMT_py-1.1.1-py3.6.egg\n",
            "Extracting OpenNMT_py-1.1.1-py3.6.egg to /usr/local/lib/python3.6/dist-packages\n",
            "Adding OpenNMT-py 1.1.1 to easy-install.pth file\n",
            "Installing onmt_average_models script to /usr/local/bin\n",
            "Installing onmt_preprocess script to /usr/local/bin\n",
            "Installing onmt_release_model script to /usr/local/bin\n",
            "Installing onmt_server script to /usr/local/bin\n",
            "Installing onmt_train script to /usr/local/bin\n",
            "Installing onmt_translate script to /usr/local/bin\n",
            "\n",
            "Installed /usr/local/lib/python3.6/dist-packages/OpenNMT_py-1.1.1-py3.6.egg\n",
            "Processing dependencies for OpenNMT-py==1.1.1\n",
            "Searching for pyonmttok==1.18.4\n",
            "Best match: pyonmttok 1.18.4\n",
            "Adding pyonmttok 1.18.4 to easy-install.pth file\n",
            "\n",
            "Using /usr/local/lib/python3.6/dist-packages\n",
            "Searching for PyYAML==3.13\n",
            "Best match: PyYAML 3.13\n",
            "Adding PyYAML 3.13 to easy-install.pth file\n",
            "\n",
            "Using /usr/local/lib/python3.6/dist-packages\n",
            "Searching for waitress==1.4.4\n",
            "Best match: waitress 1.4.4\n",
            "Adding waitress 1.4.4 to easy-install.pth file\n",
            "Installing waitress-serve script to /usr/local/bin\n",
            "\n",
            "Using /usr/local/lib/python3.6/dist-packages\n",
            "Searching for Flask==1.1.2\n",
            "Best match: Flask 1.1.2\n",
            "Adding Flask 1.1.2 to easy-install.pth file\n",
            "Installing flask script to /usr/local/bin\n",
            "\n",
            "Using /usr/local/lib/python3.6/dist-packages\n",
            "Searching for tensorboard==2.2.2\n",
            "Best match: tensorboard 2.2.2\n",
            "Adding tensorboard 2.2.2 to easy-install.pth file\n",
            "Installing tensorboard script to /usr/local/bin\n",
            "\n",
            "Using /usr/local/lib/python3.6/dist-packages\n",
            "Searching for ConfigArgParse==1.2.3\n",
            "Best match: ConfigArgParse 1.2.3\n",
            "Adding ConfigArgParse 1.2.3 to easy-install.pth file\n",
            "\n",
            "Using /usr/local/lib/python3.6/dist-packages\n",
            "Searching for future==0.16.0\n",
            "Best match: future 0.16.0\n",
            "Adding future 0.16.0 to easy-install.pth file\n",
            "Installing futurize script to /usr/local/bin\n",
            "Installing pasteurize script to /usr/local/bin\n",
            "\n",
            "Using /usr/local/lib/python3.6/dist-packages\n",
            "Searching for torchtext==0.4.0\n",
            "Best match: torchtext 0.4.0\n",
            "Adding torchtext 0.4.0 to easy-install.pth file\n",
            "\n",
            "Using /usr/local/lib/python3.6/dist-packages\n",
            "Searching for torch==1.5.0+cu101\n",
            "Best match: torch 1.5.0+cu101\n",
            "Adding torch 1.5.0+cu101 to easy-install.pth file\n",
            "Installing convert-caffe2-to-onnx script to /usr/local/bin\n",
            "Installing convert-onnx-to-caffe2 script to /usr/local/bin\n",
            "\n",
            "Using /usr/local/lib/python3.6/dist-packages\n",
            "Searching for tqdm==4.30.0\n",
            "Best match: tqdm 4.30.0\n",
            "Adding tqdm 4.30.0 to easy-install.pth file\n",
            "Installing tqdm script to /usr/local/bin\n",
            "\n",
            "Using /usr/local/lib/python3.6/dist-packages\n",
            "Searching for six==1.12.0\n",
            "Best match: six 1.12.0\n",
            "Adding six 1.12.0 to easy-install.pth file\n",
            "\n",
            "Using /usr/local/lib/python3.6/dist-packages\n",
            "Searching for itsdangerous==1.1.0\n",
            "Best match: itsdangerous 1.1.0\n",
            "Adding itsdangerous 1.1.0 to easy-install.pth file\n",
            "\n",
            "Using /usr/local/lib/python3.6/dist-packages\n",
            "Searching for Werkzeug==1.0.1\n",
            "Best match: Werkzeug 1.0.1\n",
            "Adding Werkzeug 1.0.1 to easy-install.pth file\n",
            "\n",
            "Using /usr/local/lib/python3.6/dist-packages\n",
            "Searching for Jinja2==2.11.2\n",
            "Best match: Jinja2 2.11.2\n",
            "Adding Jinja2 2.11.2 to easy-install.pth file\n",
            "\n",
            "Using /usr/local/lib/python3.6/dist-packages\n",
            "Searching for click==7.1.2\n",
            "Best match: click 7.1.2\n",
            "Adding click 7.1.2 to easy-install.pth file\n",
            "\n",
            "Using /usr/local/lib/python3.6/dist-packages\n",
            "Searching for wheel==0.34.2\n",
            "Best match: wheel 0.34.2\n",
            "Adding wheel 0.34.2 to easy-install.pth file\n",
            "Installing wheel script to /usr/local/bin\n",
            "\n",
            "Using /usr/local/lib/python3.6/dist-packages\n",
            "Searching for setuptools==47.1.1\n",
            "Best match: setuptools 47.1.1\n",
            "Adding setuptools 47.1.1 to easy-install.pth file\n",
            "Installing easy_install script to /usr/local/bin\n",
            "Installing easy_install-3.8 script to /usr/local/bin\n",
            "\n",
            "Using /usr/local/lib/python3.6/dist-packages\n",
            "Searching for numpy==1.18.4\n",
            "Best match: numpy 1.18.4\n",
            "Adding numpy 1.18.4 to easy-install.pth file\n",
            "Installing f2py script to /usr/local/bin\n",
            "Installing f2py3 script to /usr/local/bin\n",
            "Installing f2py3.6 script to /usr/local/bin\n",
            "\n",
            "Using /usr/local/lib/python3.6/dist-packages\n",
            "Searching for google-auth-oauthlib==0.4.1\n",
            "Best match: google-auth-oauthlib 0.4.1\n",
            "Adding google-auth-oauthlib 0.4.1 to easy-install.pth file\n",
            "Installing google-oauthlib-tool script to /usr/local/bin\n",
            "\n",
            "Using /usr/local/lib/python3.6/dist-packages\n",
            "Searching for tensorboard-plugin-wit==1.6.0.post3\n",
            "Best match: tensorboard-plugin-wit 1.6.0.post3\n",
            "Adding tensorboard-plugin-wit 1.6.0.post3 to easy-install.pth file\n",
            "\n",
            "Using /usr/local/lib/python3.6/dist-packages\n",
            "Searching for requests==2.23.0\n",
            "Best match: requests 2.23.0\n",
            "Adding requests 2.23.0 to easy-install.pth file\n",
            "\n",
            "Using /usr/local/lib/python3.6/dist-packages\n",
            "Searching for Markdown==3.2.2\n",
            "Best match: Markdown 3.2.2\n",
            "Adding Markdown 3.2.2 to easy-install.pth file\n",
            "Installing markdown_py script to /usr/local/bin\n",
            "\n",
            "Using /usr/local/lib/python3.6/dist-packages\n",
            "Searching for google-auth==1.7.2\n",
            "Best match: google-auth 1.7.2\n",
            "Adding google-auth 1.7.2 to easy-install.pth file\n",
            "\n",
            "Using /usr/local/lib/python3.6/dist-packages\n",
            "Searching for grpcio==1.29.0\n",
            "Best match: grpcio 1.29.0\n",
            "Adding grpcio 1.29.0 to easy-install.pth file\n",
            "\n",
            "Using /usr/local/lib/python3.6/dist-packages\n",
            "Searching for absl-py==0.9.0\n",
            "Best match: absl-py 0.9.0\n",
            "Adding absl-py 0.9.0 to easy-install.pth file\n",
            "\n",
            "Using /usr/local/lib/python3.6/dist-packages\n",
            "Searching for protobuf==3.10.0\n",
            "Best match: protobuf 3.10.0\n",
            "Adding protobuf 3.10.0 to easy-install.pth file\n",
            "\n",
            "Using /usr/local/lib/python3.6/dist-packages\n",
            "Searching for MarkupSafe==1.1.1\n",
            "Best match: MarkupSafe 1.1.1\n",
            "Adding MarkupSafe 1.1.1 to easy-install.pth file\n",
            "\n",
            "Using /usr/local/lib/python3.6/dist-packages\n",
            "Searching for requests-oauthlib==1.3.0\n",
            "Best match: requests-oauthlib 1.3.0\n",
            "Adding requests-oauthlib 1.3.0 to easy-install.pth file\n",
            "\n",
            "Using /usr/local/lib/python3.6/dist-packages\n",
            "Searching for idna==2.9\n",
            "Best match: idna 2.9\n",
            "Adding idna 2.9 to easy-install.pth file\n",
            "\n",
            "Using /usr/local/lib/python3.6/dist-packages\n",
            "Searching for certifi==2020.4.5.1\n",
            "Best match: certifi 2020.4.5.1\n",
            "Adding certifi 2020.4.5.1 to easy-install.pth file\n",
            "\n",
            "Using /usr/local/lib/python3.6/dist-packages\n",
            "Searching for chardet==3.0.4\n",
            "Best match: chardet 3.0.4\n",
            "Adding chardet 3.0.4 to easy-install.pth file\n",
            "Installing chardetect script to /usr/local/bin\n",
            "\n",
            "Using /usr/local/lib/python3.6/dist-packages\n",
            "Searching for urllib3==1.24.3\n",
            "Best match: urllib3 1.24.3\n",
            "Adding urllib3 1.24.3 to easy-install.pth file\n",
            "\n",
            "Using /usr/local/lib/python3.6/dist-packages\n",
            "Searching for importlib-metadata==1.6.0\n",
            "Best match: importlib-metadata 1.6.0\n",
            "Adding importlib-metadata 1.6.0 to easy-install.pth file\n",
            "\n",
            "Using /usr/local/lib/python3.6/dist-packages\n",
            "Searching for pyasn1-modules==0.2.8\n",
            "Best match: pyasn1-modules 0.2.8\n",
            "Adding pyasn1-modules 0.2.8 to easy-install.pth file\n",
            "\n",
            "Using /usr/local/lib/python3.6/dist-packages\n",
            "Searching for rsa==4.0\n",
            "Best match: rsa 4.0\n",
            "Adding rsa 4.0 to easy-install.pth file\n",
            "Installing pyrsa-decrypt script to /usr/local/bin\n",
            "Installing pyrsa-encrypt script to /usr/local/bin\n",
            "Installing pyrsa-keygen script to /usr/local/bin\n",
            "Installing pyrsa-priv2pub script to /usr/local/bin\n",
            "Installing pyrsa-sign script to /usr/local/bin\n",
            "Installing pyrsa-verify script to /usr/local/bin\n",
            "\n",
            "Using /usr/local/lib/python3.6/dist-packages\n",
            "Searching for cachetools==3.1.1\n",
            "Best match: cachetools 3.1.1\n",
            "Adding cachetools 3.1.1 to easy-install.pth file\n",
            "\n",
            "Using /usr/local/lib/python3.6/dist-packages\n",
            "Searching for oauthlib==3.1.0\n",
            "Best match: oauthlib 3.1.0\n",
            "Adding oauthlib 3.1.0 to easy-install.pth file\n",
            "\n",
            "Using /usr/local/lib/python3.6/dist-packages\n",
            "Searching for zipp==3.1.0\n",
            "Best match: zipp 3.1.0\n",
            "Adding zipp 3.1.0 to easy-install.pth file\n",
            "\n",
            "Using /usr/local/lib/python3.6/dist-packages\n",
            "Searching for pyasn1==0.4.8\n",
            "Best match: pyasn1 0.4.8\n",
            "Adding pyasn1 0.4.8 to easy-install.pth file\n",
            "\n",
            "Using /usr/local/lib/python3.6/dist-packages\n",
            "Finished processing dependencies for OpenNMT-py==1.1.1\n"
          ],
          "name": "stdout"
        }
      ]
    },
    {
      "cell_type": "markdown",
      "metadata": {
        "id": "fvAUIuWYP-1G",
        "colab_type": "text"
      },
      "source": [
        "The model works with a simple use of a bash script. One needs to provide paths for input and output text files: input file is to translate, output is the result"
      ]
    },
    {
      "cell_type": "code",
      "metadata": {
        "id": "5jn9nEYds2uS",
        "colab_type": "code",
        "outputId": "fcb54471-0d9e-4be2-d979-4974026615c0",
        "colab": {
          "base_uri": "https://localhost:8080/",
          "height": 233
        }
      },
      "source": [
        "!sudo ./translate.sh data/gramma.en.txt data/gramma.ru.txt"
      ],
      "execution_count": 0,
      "outputs": [
        {
          "output_type": "stream",
          "text": [
            "Токенизация...\n",
            "Tokenizer Version 1.1\n",
            "Language: en\n",
            "Number of threads: 6\n",
            "Сегментация...\n",
            "Перевод...\n",
            "Десегментация перевода...\n",
            "Детокенизация перевода...\n",
            "Warning: No built-in rules for language ru.\n",
            "Detokenizer Version $Revision: 4134 $\n",
            "Language: ru\n",
            "Перевод выполнен!\n"
          ],
          "name": "stdout"
        }
      ]
    },
    {
      "cell_type": "code",
      "metadata": {
        "id": "atnanVlZz5DJ",
        "colab_type": "code",
        "outputId": "de191f83-b4ee-4307-c1d3-13150c9e9b6f",
        "colab": {
          "base_uri": "https://localhost:8080/",
          "height": 233
        }
      },
      "source": [
        "#data/data.en.txt is a raw data file\n",
        "!sudo ./translate.sh data/data.en.txt data/data.ru.txt"
      ],
      "execution_count": 0,
      "outputs": [
        {
          "output_type": "stream",
          "text": [
            "Токенизация...\n",
            "Tokenizer Version 1.1\n",
            "Language: en\n",
            "Number of threads: 6\n",
            "Сегментация...\n",
            "Перевод...\n",
            "Десегментация перевода...\n",
            "Детокенизация перевода...\n",
            "Warning: No built-in rules for language ru.\n",
            "Detokenizer Version $Revision: 4134 $\n",
            "Language: ru\n",
            "Перевод выполнен!\n"
          ],
          "name": "stdout"
        }
      ]
    },
    {
      "cell_type": "code",
      "metadata": {
        "id": "5ENjemwZvppx",
        "colab_type": "code",
        "colab": {}
      },
      "source": [
        "#forming list to calculte BLEU\n",
        "original_text = []\n",
        "with open('data/data.en.txt', 'r') as f:\n",
        "    original_text = [line.strip().split('\\t')[1].split(' ') for line in f]\n",
        "translated_text = []\n",
        "with open('data/data.ru.txt', 'r') as f:\n",
        "    translated_text = [line.strip().split(' ') for line in f]"
      ],
      "execution_count": 0,
      "outputs": []
    },
    {
      "cell_type": "markdown",
      "metadata": {
        "id": "bNt6MfdMUXt7",
        "colab_type": "text"
      },
      "source": [
        "Let's check the translation"
      ]
    },
    {
      "cell_type": "code",
      "metadata": {
        "id": "DbZXXqF95g04",
        "colab_type": "code",
        "outputId": "bec9e581-6414-404f-d1de-fbe32d03c76c",
        "colab": {
          "base_uri": "https://localhost:8080/",
          "height": 197
        }
      },
      "source": [
        "original_text[32]"
      ],
      "execution_count": 0,
      "outputs": [
        {
          "output_type": "execute_result",
          "data": {
            "text/plain": [
              "['Все',\n",
              " 'номера',\n",
              " 'располагают',\n",
              " 'собственной',\n",
              " 'ванной',\n",
              " 'комнатой',\n",
              " 'с',\n",
              " 'душем',\n",
              " 'и',\n",
              " 'феном.']"
            ]
          },
          "metadata": {
            "tags": []
          },
          "execution_count": 58
        }
      ]
    },
    {
      "cell_type": "code",
      "metadata": {
        "id": "WZHz107OtaYN",
        "colab_type": "code",
        "outputId": "947b5de6-d38e-4425-9d52-3699672433b1",
        "colab": {
          "base_uri": "https://localhost:8080/",
          "height": 233
        }
      },
      "source": [
        "translated_text[32]"
      ],
      "execution_count": 0,
      "outputs": [
        {
          "output_type": "execute_result",
          "data": {
            "text/plain": [
              "['Во',\n",
              " 'всех',\n",
              " 'апартаментах',\n",
              " 'также',\n",
              " 'имеется',\n",
              " 'собственная',\n",
              " 'ванная',\n",
              " 'комната',\n",
              " 'с',\n",
              " 'душем,',\n",
              " 'оснащенной',\n",
              " 'феном.']"
            ]
          },
          "metadata": {
            "tags": []
          },
          "execution_count": 59
        }
      ]
    },
    {
      "cell_type": "code",
      "metadata": {
        "id": "xVRIQ2A2tWkB",
        "colab_type": "code",
        "outputId": "4affff2b-2398-4f19-9a29-d6d05d1644f5",
        "colab": {
          "base_uri": "https://localhost:8080/",
          "height": 35
        }
      },
      "source": [
        "corpus_bleu([[text] for text in translated_text], original_text) * 100"
      ],
      "execution_count": 0,
      "outputs": [
        {
          "output_type": "execute_result",
          "data": {
            "text/plain": [
              "20.245753161023725"
            ]
          },
          "metadata": {
            "tags": []
          },
          "execution_count": 55
        }
      ]
    },
    {
      "cell_type": "markdown",
      "metadata": {
        "id": "F9gCb2NuQyNr",
        "colab_type": "text"
      },
      "source": [
        "Quite good translation and score, taking in account, that the model wasn't trained with data from the translated text, but I expected a bit more. I guess that one could improve the score by traing more with the data from the original text. I did not do that due to a catastrophic lack of time."
      ]
    },
    {
      "cell_type": "markdown",
      "metadata": {
        "id": "rvcfaXNMwBq4",
        "colab_type": "text"
      },
      "source": [
        "## 2. Own network"
      ]
    },
    {
      "cell_type": "markdown",
      "metadata": {
        "id": "xrmlYja3wsoH",
        "colab_type": "text"
      },
      "source": [
        "Let's try to implement own network. It is Seq2Seq like the baseline, but with attention."
      ]
    },
    {
      "cell_type": "markdown",
      "metadata": {
        "id": "wN6q_I-kL-lo",
        "colab_type": "text"
      },
      "source": [
        "These libraries are needed to implement better Tokenizer for Russian and English with spacy.\n",
        "\n",
        "https://github.com/buriy/spacy-ru\n",
        "\n",
        "https://spacy.io/usage/models#download-pip"
      ]
    },
    {
      "cell_type": "code",
      "metadata": {
        "id": "s_u8VoLCoKfs",
        "colab_type": "code",
        "outputId": "1cbe43dc-dfcc-4268-c9ee-68bed0035db8",
        "colab": {
          "base_uri": "https://localhost:8080/",
          "height": 1000
        }
      },
      "source": [
        "!pip install spacy-stanza\n",
        "!pip install pymorphy2==0.8\n",
        "!git clone -b v2.1 https://github.com/buriy/spacy-ru.git && cp -r ./spacy-ru/ru2/. ./content/ru2\n",
        "!pip install --upgrade torchtext\n",
        "!pip install spacy"
      ],
      "execution_count": 1,
      "outputs": [
        {
          "output_type": "stream",
          "text": [
            "Requirement already satisfied: spacy-stanza in /usr/local/lib/python3.6/dist-packages (0.2.1)\n",
            "Requirement already satisfied: spacy>=2.1.0 in /usr/local/lib/python3.6/dist-packages (from spacy-stanza) (2.2.4)\n",
            "Requirement already satisfied: stanza<1.1.0,>=1.0.0 in /usr/local/lib/python3.6/dist-packages (from spacy-stanza) (1.0.1)\n",
            "Requirement already satisfied: srsly<1.1.0,>=1.0.2 in /usr/local/lib/python3.6/dist-packages (from spacy>=2.1.0->spacy-stanza) (1.0.2)\n",
            "Requirement already satisfied: thinc==7.4.0 in /usr/local/lib/python3.6/dist-packages (from spacy>=2.1.0->spacy-stanza) (7.4.0)\n",
            "Requirement already satisfied: catalogue<1.1.0,>=0.0.7 in /usr/local/lib/python3.6/dist-packages (from spacy>=2.1.0->spacy-stanza) (1.0.0)\n",
            "Requirement already satisfied: cymem<2.1.0,>=2.0.2 in /usr/local/lib/python3.6/dist-packages (from spacy>=2.1.0->spacy-stanza) (2.0.3)\n",
            "Requirement already satisfied: plac<1.2.0,>=0.9.6 in /usr/local/lib/python3.6/dist-packages (from spacy>=2.1.0->spacy-stanza) (1.1.3)\n",
            "Requirement already satisfied: preshed<3.1.0,>=3.0.2 in /usr/local/lib/python3.6/dist-packages (from spacy>=2.1.0->spacy-stanza) (3.0.2)\n",
            "Requirement already satisfied: requests<3.0.0,>=2.13.0 in /usr/local/lib/python3.6/dist-packages (from spacy>=2.1.0->spacy-stanza) (2.23.0)\n",
            "Requirement already satisfied: blis<0.5.0,>=0.4.0 in /usr/local/lib/python3.6/dist-packages (from spacy>=2.1.0->spacy-stanza) (0.4.1)\n",
            "Requirement already satisfied: numpy>=1.15.0 in /usr/local/lib/python3.6/dist-packages (from spacy>=2.1.0->spacy-stanza) (1.18.4)\n",
            "Requirement already satisfied: wasabi<1.1.0,>=0.4.0 in /usr/local/lib/python3.6/dist-packages (from spacy>=2.1.0->spacy-stanza) (0.6.0)\n",
            "Requirement already satisfied: murmurhash<1.1.0,>=0.28.0 in /usr/local/lib/python3.6/dist-packages (from spacy>=2.1.0->spacy-stanza) (1.0.2)\n",
            "Requirement already satisfied: tqdm<5.0.0,>=4.38.0 in /usr/local/lib/python3.6/dist-packages (from spacy>=2.1.0->spacy-stanza) (4.41.1)\n",
            "Requirement already satisfied: setuptools in /usr/local/lib/python3.6/dist-packages (from spacy>=2.1.0->spacy-stanza) (47.1.1)\n",
            "Requirement already satisfied: torch>=1.3.0 in /usr/local/lib/python3.6/dist-packages (from stanza<1.1.0,>=1.0.0->spacy-stanza) (1.5.0+cu101)\n",
            "Requirement already satisfied: protobuf in /usr/local/lib/python3.6/dist-packages (from stanza<1.1.0,>=1.0.0->spacy-stanza) (3.10.0)\n",
            "Requirement already satisfied: importlib-metadata>=0.20; python_version < \"3.8\" in /usr/local/lib/python3.6/dist-packages (from catalogue<1.1.0,>=0.0.7->spacy>=2.1.0->spacy-stanza) (1.6.0)\n",
            "Requirement already satisfied: urllib3!=1.25.0,!=1.25.1,<1.26,>=1.21.1 in /usr/local/lib/python3.6/dist-packages (from requests<3.0.0,>=2.13.0->spacy>=2.1.0->spacy-stanza) (1.24.3)\n",
            "Requirement already satisfied: idna<3,>=2.5 in /usr/local/lib/python3.6/dist-packages (from requests<3.0.0,>=2.13.0->spacy>=2.1.0->spacy-stanza) (2.9)\n",
            "Requirement already satisfied: certifi>=2017.4.17 in /usr/local/lib/python3.6/dist-packages (from requests<3.0.0,>=2.13.0->spacy>=2.1.0->spacy-stanza) (2020.4.5.1)\n",
            "Requirement already satisfied: chardet<4,>=3.0.2 in /usr/local/lib/python3.6/dist-packages (from requests<3.0.0,>=2.13.0->spacy>=2.1.0->spacy-stanza) (3.0.4)\n",
            "Requirement already satisfied: future in /usr/local/lib/python3.6/dist-packages (from torch>=1.3.0->stanza<1.1.0,>=1.0.0->spacy-stanza) (0.16.0)\n",
            "Requirement already satisfied: six>=1.9 in /usr/local/lib/python3.6/dist-packages (from protobuf->stanza<1.1.0,>=1.0.0->spacy-stanza) (1.12.0)\n",
            "Requirement already satisfied: zipp>=0.5 in /usr/local/lib/python3.6/dist-packages (from importlib-metadata>=0.20; python_version < \"3.8\"->catalogue<1.1.0,>=0.0.7->spacy>=2.1.0->spacy-stanza) (3.1.0)\n",
            "Requirement already satisfied: pymorphy2==0.8 in /usr/local/lib/python3.6/dist-packages (0.8)\n",
            "Requirement already satisfied: docopt>=0.6 in /usr/local/lib/python3.6/dist-packages (from pymorphy2==0.8) (0.6.2)\n",
            "Requirement already satisfied: dawg-python>=0.7 in /usr/local/lib/python3.6/dist-packages (from pymorphy2==0.8) (0.7.2)\n",
            "Requirement already satisfied: pymorphy2-dicts<3.0,>=2.4 in /usr/local/lib/python3.6/dist-packages (from pymorphy2==0.8) (2.4.393442.3710985)\n",
            "fatal: destination path 'spacy-ru' already exists and is not an empty directory.\n",
            "Requirement already up-to-date: torchtext in /usr/local/lib/python3.6/dist-packages (0.6.0)\n",
            "Requirement already satisfied, skipping upgrade: six in /usr/local/lib/python3.6/dist-packages (from torchtext) (1.12.0)\n",
            "Requirement already satisfied, skipping upgrade: tqdm in /usr/local/lib/python3.6/dist-packages (from torchtext) (4.41.1)\n",
            "Requirement already satisfied, skipping upgrade: torch in /usr/local/lib/python3.6/dist-packages (from torchtext) (1.5.0+cu101)\n",
            "Requirement already satisfied, skipping upgrade: numpy in /usr/local/lib/python3.6/dist-packages (from torchtext) (1.18.4)\n",
            "Requirement already satisfied, skipping upgrade: requests in /usr/local/lib/python3.6/dist-packages (from torchtext) (2.23.0)\n",
            "Requirement already satisfied, skipping upgrade: sentencepiece in /usr/local/lib/python3.6/dist-packages (from torchtext) (0.1.91)\n",
            "Requirement already satisfied, skipping upgrade: future in /usr/local/lib/python3.6/dist-packages (from torch->torchtext) (0.16.0)\n",
            "Requirement already satisfied, skipping upgrade: urllib3!=1.25.0,!=1.25.1,<1.26,>=1.21.1 in /usr/local/lib/python3.6/dist-packages (from requests->torchtext) (1.24.3)\n",
            "Requirement already satisfied, skipping upgrade: certifi>=2017.4.17 in /usr/local/lib/python3.6/dist-packages (from requests->torchtext) (2020.4.5.1)\n",
            "Requirement already satisfied, skipping upgrade: idna<3,>=2.5 in /usr/local/lib/python3.6/dist-packages (from requests->torchtext) (2.9)\n",
            "Requirement already satisfied, skipping upgrade: chardet<4,>=3.0.2 in /usr/local/lib/python3.6/dist-packages (from requests->torchtext) (3.0.4)\n",
            "Requirement already satisfied: spacy in /usr/local/lib/python3.6/dist-packages (2.2.4)\n",
            "Requirement already satisfied: tqdm<5.0.0,>=4.38.0 in /usr/local/lib/python3.6/dist-packages (from spacy) (4.41.1)\n",
            "Requirement already satisfied: cymem<2.1.0,>=2.0.2 in /usr/local/lib/python3.6/dist-packages (from spacy) (2.0.3)\n",
            "Requirement already satisfied: blis<0.5.0,>=0.4.0 in /usr/local/lib/python3.6/dist-packages (from spacy) (0.4.1)\n",
            "Requirement already satisfied: thinc==7.4.0 in /usr/local/lib/python3.6/dist-packages (from spacy) (7.4.0)\n",
            "Requirement already satisfied: murmurhash<1.1.0,>=0.28.0 in /usr/local/lib/python3.6/dist-packages (from spacy) (1.0.2)\n",
            "Requirement already satisfied: requests<3.0.0,>=2.13.0 in /usr/local/lib/python3.6/dist-packages (from spacy) (2.23.0)\n",
            "Requirement already satisfied: numpy>=1.15.0 in /usr/local/lib/python3.6/dist-packages (from spacy) (1.18.4)\n",
            "Requirement already satisfied: setuptools in /usr/local/lib/python3.6/dist-packages (from spacy) (47.1.1)\n",
            "Requirement already satisfied: plac<1.2.0,>=0.9.6 in /usr/local/lib/python3.6/dist-packages (from spacy) (1.1.3)\n",
            "Requirement already satisfied: wasabi<1.1.0,>=0.4.0 in /usr/local/lib/python3.6/dist-packages (from spacy) (0.6.0)\n",
            "Requirement already satisfied: preshed<3.1.0,>=3.0.2 in /usr/local/lib/python3.6/dist-packages (from spacy) (3.0.2)\n",
            "Requirement already satisfied: srsly<1.1.0,>=1.0.2 in /usr/local/lib/python3.6/dist-packages (from spacy) (1.0.2)\n",
            "Requirement already satisfied: catalogue<1.1.0,>=0.0.7 in /usr/local/lib/python3.6/dist-packages (from spacy) (1.0.0)\n",
            "Requirement already satisfied: chardet<4,>=3.0.2 in /usr/local/lib/python3.6/dist-packages (from requests<3.0.0,>=2.13.0->spacy) (3.0.4)\n",
            "Requirement already satisfied: idna<3,>=2.5 in /usr/local/lib/python3.6/dist-packages (from requests<3.0.0,>=2.13.0->spacy) (2.9)\n",
            "Requirement already satisfied: certifi>=2017.4.17 in /usr/local/lib/python3.6/dist-packages (from requests<3.0.0,>=2.13.0->spacy) (2020.4.5.1)\n",
            "Requirement already satisfied: urllib3!=1.25.0,!=1.25.1,<1.26,>=1.21.1 in /usr/local/lib/python3.6/dist-packages (from requests<3.0.0,>=2.13.0->spacy) (1.24.3)\n",
            "Requirement already satisfied: importlib-metadata>=0.20; python_version < \"3.8\" in /usr/local/lib/python3.6/dist-packages (from catalogue<1.1.0,>=0.0.7->spacy) (1.6.0)\n",
            "Requirement already satisfied: zipp>=0.5 in /usr/local/lib/python3.6/dist-packages (from importlib-metadata>=0.20; python_version < \"3.8\"->catalogue<1.1.0,>=0.0.7->spacy) (3.1.0)\n"
          ],
          "name": "stdout"
        }
      ]
    },
    {
      "cell_type": "markdown",
      "metadata": {
        "id": "sK94Ke3jeHmy",
        "colab_type": "text"
      },
      "source": [
        "In GRU_with_attention, there are implemented Encoder, Decoder, Attention, and based on them Seq2Seq network. "
      ]
    },
    {
      "cell_type": "code",
      "metadata": {
        "id": "DY-qCK8qA4F-",
        "colab_type": "code",
        "outputId": "962e6993-6454-4d23-9962-c0798679dff4",
        "colab": {
          "base_uri": "https://localhost:8080/",
          "height": 35
        }
      },
      "source": [
        "%cd \"/content/drive/My Drive/MADE_2019/NLP_3\"\n",
        "from GRU_with_attention import *"
      ],
      "execution_count": 2,
      "outputs": [
        {
          "output_type": "stream",
          "text": [
            "/content/drive/My Drive/MADE_2019/NLP_3\n"
          ],
          "name": "stdout"
        }
      ]
    },
    {
      "cell_type": "code",
      "metadata": {
        "id": "iMmJ8KZpovv_",
        "colab_type": "code",
        "outputId": "50f626e9-bde5-44ce-aecf-cd07cb5f611f",
        "colab": {
          "base_uri": "https://localhost:8080/",
          "height": 35
        }
      },
      "source": [
        "%cd /content/\n",
        "from torchtext.data import Field, BucketIterator, TabularDataset\n",
        "import spacy"
      ],
      "execution_count": 3,
      "outputs": [
        {
          "output_type": "stream",
          "text": [
            "/content\n"
          ],
          "name": "stdout"
        }
      ]
    },
    {
      "cell_type": "code",
      "metadata": {
        "id": "HK9CaD1NpeaY",
        "colab_type": "code",
        "outputId": "5443faaa-8568-400d-eeee-6777a25b1f45",
        "colab": {
          "base_uri": "https://localhost:8080/",
          "height": 125
        }
      },
      "source": [
        "import spacy.cli\n",
        "spacy.cli.download(\"en\")"
      ],
      "execution_count": 4,
      "outputs": [
        {
          "output_type": "stream",
          "text": [
            "\u001b[38;5;2m✔ Download and installation successful\u001b[0m\n",
            "You can now load the model via spacy.load('en_core_web_sm')\n",
            "\u001b[38;5;2m✔ Linking successful\u001b[0m\n",
            "/usr/local/lib/python3.6/dist-packages/en_core_web_sm -->\n",
            "/usr/local/lib/python3.6/dist-packages/spacy/data/en\n",
            "You can now load the model via spacy.load('en')\n"
          ],
          "name": "stdout"
        }
      ]
    },
    {
      "cell_type": "code",
      "metadata": {
        "id": "7N2l9GhFrEfH",
        "colab_type": "code",
        "outputId": "044ceb6f-a6b3-408e-ba5f-bddd7f4aebd7",
        "colab": {
          "base_uri": "https://localhost:8080/",
          "height": 71
        }
      },
      "source": [
        "##checking how ru2 tokenizes Russian\n",
        "nlp = spacy.load(\"./spacy-ru/ru2\")\n",
        "sample_sentences = \"Привет Миру! Как твои дела? Сегодня неплохая погода.\"\n",
        "nlp.add_pipe(nlp.create_pipe('sentencizer'), first=True)\n",
        "doc = nlp(sample_sentences)\n",
        "for s in doc.sents:\n",
        "  print(list(['lemma \"{}\" from text \"{}\"'.format(t.lemma_, t.text) for t in s]))"
      ],
      "execution_count": 5,
      "outputs": [
        {
          "output_type": "stream",
          "text": [
            "['lemma \"привет\" from text \"Привет\"', 'lemma \"мир\" from text \"Миру\"', 'lemma \"!\" from text \"!\"']\n",
            "['lemma \"как\" from text \"Как\"', 'lemma \"твой\" from text \"твои\"', 'lemma \"дело\" from text \"дела\"', 'lemma \"?\" from text \"?\"']\n",
            "['lemma \"сегодня\" from text \"Сегодня\"', 'lemma \"неплохой\" from text \"неплохая\"', 'lemma \"погода\" from text \"погода\"', 'lemma \".\" from text \".\"']\n"
          ],
          "name": "stdout"
        }
      ]
    },
    {
      "cell_type": "markdown",
      "metadata": {
        "id": "-v0LeQ0ne8dR",
        "colab_type": "text"
      },
      "source": [
        "In the cells bellow, the code follows the logic of the baseline and in many steps repeates it."
      ]
    },
    {
      "cell_type": "code",
      "metadata": {
        "id": "QbGEWvAFo_um",
        "colab_type": "code",
        "colab": {}
      },
      "source": [
        "SRC = Field(tokenize = \"spacy\",\n",
        "            tokenizer_language=\"en\",\n",
        "            init_token = '<sos>',\n",
        "            eos_token = '<eos>',\n",
        "            lower = True)\n",
        "\n",
        "TRG = Field(tokenize = \"spacy\",\n",
        "            tokenizer_language=\"./spacy-ru/ru2\",\n",
        "            init_token = '<sos>',\n",
        "            eos_token = '<eos>',\n",
        "            lower = True)\n",
        "\n",
        "dataset = TabularDataset(\n",
        "    path=path_do_data,\n",
        "    format='tsv',\n",
        "    fields=[('src', SRC), ('trg', TRG)]\n",
        ")"
      ],
      "execution_count": 0,
      "outputs": []
    },
    {
      "cell_type": "code",
      "metadata": {
        "id": "hl2i774NltPR",
        "colab_type": "code",
        "colab": {}
      },
      "source": [
        "train_data, valid_data, test_data = dataset.split(split_ratio=[0.8, 0.15, 0.05])"
      ],
      "execution_count": 0,
      "outputs": []
    },
    {
      "cell_type": "code",
      "metadata": {
        "id": "em_uV00X21U2",
        "colab_type": "code",
        "outputId": "e5e98f9d-5335-4c27-aa0b-67001d2cd575",
        "colab": {
          "base_uri": "https://localhost:8080/",
          "height": 71
        }
      },
      "source": [
        "print(f\"Number of training examples: {len(train_data.examples)}\")\n",
        "print(f\"Number of validation examples: {len(valid_data.examples)}\")\n",
        "print(f\"Number of testing examples: {len(test_data.examples)}\")"
      ],
      "execution_count": 11,
      "outputs": [
        {
          "output_type": "stream",
          "text": [
            "Number of training examples: 40000\n",
            "Number of validation examples: 2500\n",
            "Number of testing examples: 7500\n"
          ],
          "name": "stdout"
        }
      ]
    },
    {
      "cell_type": "code",
      "metadata": {
        "id": "n8uoeQb13FpH",
        "colab_type": "code",
        "colab": {}
      },
      "source": [
        "SRC.build_vocab(train_data, min_freq = 2)\n",
        "TRG.build_vocab(train_data, min_freq = 2)"
      ],
      "execution_count": 0,
      "outputs": []
    },
    {
      "cell_type": "code",
      "metadata": {
        "id": "scJpiTVg3I63",
        "colab_type": "code",
        "colab": {}
      },
      "source": [
        "import torch\n",
        "\n",
        "device = torch.device('cuda' if torch.cuda.is_available() else 'cpu')\n",
        "\n",
        "BATCH_SIZE = 128\n",
        "\n",
        "train_iterator, valid_iterator, test_iterator = BucketIterator.splits(\n",
        "    (train_data, valid_data, test_data),\n",
        "    batch_size = BATCH_SIZE,\n",
        "    device = device,\n",
        "    sort_key=lambda x: len(x.src))"
      ],
      "execution_count": 0,
      "outputs": []
    },
    {
      "cell_type": "code",
      "metadata": {
        "id": "06WIdCjS3MoS",
        "colab_type": "code",
        "outputId": "89230b3c-929d-4a3a-965d-a81e335e9d35",
        "colab": {
          "base_uri": "https://localhost:8080/",
          "height": 35
        }
      },
      "source": [
        "%cd \"/content/drive/My Drive/MADE_2019/NLP_3\""
      ],
      "execution_count": 23,
      "outputs": [
        {
          "output_type": "stream",
          "text": [
            "/content/drive/My Drive/MADE_2019/NLP_3\n"
          ],
          "name": "stdout"
        }
      ]
    },
    {
      "cell_type": "code",
      "metadata": {
        "id": "-Reqyus73q8M",
        "colab_type": "code",
        "colab": {}
      },
      "source": [
        "def init_weights(m: nn.Module):\n",
        "    for name, param in m.named_parameters():\n",
        "        if 'weight' in name:\n",
        "            nn.init.normal_(param.data, mean=0, std=0.01)\n",
        "        else:\n",
        "            nn.init.constant_(param.data, 0)\n",
        "\n",
        "def count_parameters(model: nn.Module):\n",
        "    return sum(p.numel() for p in model.parameters() if p.requires_grad)"
      ],
      "execution_count": 0,
      "outputs": []
    },
    {
      "cell_type": "code",
      "metadata": {
        "id": "rRlEVLue3kO9",
        "colab_type": "code",
        "outputId": "2eace7d7-6781-4db5-d00e-e43cbc4f3668",
        "colab": {
          "base_uri": "https://localhost:8080/",
          "height": 35
        }
      },
      "source": [
        "INPUT_DIM = len(SRC.vocab)\n",
        "OUTPUT_DIM = len(TRG.vocab)\n",
        "\n",
        "ENC_EMB_DIM = 256\n",
        "DEC_EMB_DIM = 256\n",
        "ENC_HID_DIM = 512\n",
        "DEC_HID_DIM = 512\n",
        "ATTN_DIM = 64\n",
        "ENC_DROPOUT = 0.5\n",
        "DEC_DROPOUT = 0.5\n",
        "\n",
        "\n",
        "enc = Encoder(INPUT_DIM, ENC_EMB_DIM, ENC_HID_DIM, DEC_HID_DIM, ENC_DROPOUT)\n",
        "attn = Attention(ENC_HID_DIM, DEC_HID_DIM, ATTN_DIM)\n",
        "dec = Decoder(OUTPUT_DIM, DEC_EMB_DIM, ENC_HID_DIM, DEC_HID_DIM, DEC_DROPOUT, attn)\n",
        "model = Seq2Seq(enc, dec, device).to(device)\n",
        "\n",
        "model.apply(init_weights)\n",
        "optimizer = optim.Adam(model.parameters())\n",
        "\n",
        "print(f'The model has {count_parameters(model):,} trainable parameters')"
      ],
      "execution_count": 26,
      "outputs": [
        {
          "output_type": "stream",
          "text": [
            "The model has 37,589,228 trainable parameters\n"
          ],
          "name": "stdout"
        }
      ]
    },
    {
      "cell_type": "code",
      "metadata": {
        "id": "9ciiT6OlyVba",
        "colab_type": "code",
        "colab": {
          "base_uri": "https://localhost:8080/",
          "height": 323
        },
        "outputId": "2d59885c-aad6-42e0-e7e1-7227a0e5dc8c"
      },
      "source": [
        "print(model)"
      ],
      "execution_count": 30,
      "outputs": [
        {
          "output_type": "stream",
          "text": [
            "Seq2Seq(\n",
            "  (encoder): Encoder(\n",
            "    (embedding): Embedding(10323, 256)\n",
            "    (rnn): GRU(256, 512, bidirectional=True)\n",
            "    (fc): Linear(in_features=1024, out_features=512, bias=True)\n",
            "    (dropout): Dropout(p=0.5, inplace=False)\n",
            "  )\n",
            "  (decoder): Decoder(\n",
            "    (attention): Attention(\n",
            "      (attention): Linear(in_features=1536, out_features=64, bias=True)\n",
            "    )\n",
            "    (embedding): Embedding(14252, 256)\n",
            "    (rnn): GRU(1280, 512)\n",
            "    (out): Linear(in_features=1792, out_features=14252, bias=True)\n",
            "    (dropout): Dropout(p=0.5, inplace=False)\n",
            "  )\n",
            ")\n"
          ],
          "name": "stdout"
        }
      ]
    },
    {
      "cell_type": "code",
      "metadata": {
        "id": "wrGIFtNV31uJ",
        "colab_type": "code",
        "colab": {}
      },
      "source": [
        "PAD_IDX = TRG.vocab.stoi['<pad>']\n",
        "\n",
        "criterion = nn.CrossEntropyLoss(ignore_index=PAD_IDX)"
      ],
      "execution_count": 0,
      "outputs": []
    },
    {
      "cell_type": "code",
      "metadata": {
        "id": "p-vgXdDO4EF-",
        "colab_type": "code",
        "colab": {}
      },
      "source": [
        "import math\n",
        "import time\n",
        "\n",
        "\n",
        "def train(model: nn.Module,\n",
        "          iterator: BucketIterator,\n",
        "          optimizer: optim.Optimizer,\n",
        "          criterion: nn.Module,\n",
        "          clip: float):\n",
        "\n",
        "    model.train()\n",
        "\n",
        "    epoch_loss = 0\n",
        "\n",
        "    for _, batch in enumerate(iterator):\n",
        "\n",
        "        src = batch.src\n",
        "        trg = batch.trg\n",
        "\n",
        "        optimizer.zero_grad()\n",
        "\n",
        "        output = model(src, trg)\n",
        "\n",
        "        output = output[1:].view(-1, output.shape[-1])\n",
        "        trg = trg[1:].view(-1)\n",
        "\n",
        "        loss = criterion(output, trg)\n",
        "\n",
        "        loss.backward()\n",
        "\n",
        "        torch.nn.utils.clip_grad_norm_(model.parameters(), clip)\n",
        "\n",
        "        optimizer.step()\n",
        "\n",
        "        epoch_loss += loss.item()\n",
        "\n",
        "    return epoch_loss / len(iterator)\n",
        "\n",
        "\n",
        "def evaluate(model: nn.Module,\n",
        "             iterator: BucketIterator,\n",
        "             criterion: nn.Module):\n",
        "\n",
        "    model.eval()\n",
        "\n",
        "    epoch_loss = 0\n",
        "\n",
        "    with torch.no_grad():\n",
        "\n",
        "        for _, batch in enumerate(iterator):\n",
        "\n",
        "            src = batch.src\n",
        "            trg = batch.trg\n",
        "\n",
        "            output = model(src, trg, 0) #turn off teacher forcing\n",
        "\n",
        "            output = output[1:].view(-1, output.shape[-1])\n",
        "            trg = trg[1:].view(-1)\n",
        "\n",
        "            loss = criterion(output, trg)\n",
        "\n",
        "            epoch_loss += loss.item()\n",
        "\n",
        "    return epoch_loss / len(iterator)\n",
        "\n",
        "\n",
        "def epoch_time(start_time: int,\n",
        "               end_time: int):\n",
        "    elapsed_time = end_time - start_time\n",
        "    elapsed_mins = int(elapsed_time / 60)\n",
        "    elapsed_secs = int(elapsed_time - (elapsed_mins * 60))\n",
        "    return elapsed_mins, elapsed_secs\n"
      ],
      "execution_count": 0,
      "outputs": []
    },
    {
      "cell_type": "code",
      "metadata": {
        "id": "YNVKCWCBF-xo",
        "colab_type": "code",
        "outputId": "4b68a3cb-7d1b-48ed-c7e6-6e7f517026cc",
        "colab": {
          "base_uri": "https://localhost:8080/",
          "height": 880
        }
      },
      "source": [
        "N_EPOCHS = 15\n",
        "CLIP = 1\n",
        "\n",
        "best_valid_loss = float('inf')\n",
        "\n",
        "for epoch in range(N_EPOCHS):\n",
        "\n",
        "    start_time = time.time()\n",
        "\n",
        "    train_loss = train(model, train_iterator, optimizer, criterion, CLIP)\n",
        "    valid_loss = evaluate(model, valid_iterator, criterion)\n",
        "\n",
        "    end_time = time.time()\n",
        "\n",
        "    epoch_mins, epoch_secs = epoch_time(start_time, end_time)\n",
        "\n",
        "    print(f'Epoch: {epoch+1:02} | Time: {epoch_mins}m {epoch_secs}s')\n",
        "    print(f'\\tTrain Loss: {train_loss:.3f} | Train PPL: {math.exp(train_loss):7.3f}')\n",
        "    print(f'\\t Val. Loss: {valid_loss:.3f} |  Val. PPL: {math.exp(valid_loss):7.3f}')\n",
        "\n",
        "test_loss = evaluate(model, test_iterator, criterion)\n",
        "\n",
        "print(f'| Test Loss: {test_loss:.3f} | Test PPL: {math.exp(test_loss):7.3f} |')"
      ],
      "execution_count": 0,
      "outputs": [
        {
          "output_type": "stream",
          "text": [
            "Epoch: 01 | Time: 3m 6s\n",
            "\tTrain Loss: 5.050 | Train PPL: 156.009\n",
            "\t Val. Loss: 5.446 |  Val. PPL: 231.907\n",
            "Epoch: 02 | Time: 3m 7s\n",
            "\tTrain Loss: 3.819 | Train PPL:  45.580\n",
            "\t Val. Loss: 5.022 |  Val. PPL: 151.683\n",
            "Epoch: 03 | Time: 3m 6s\n",
            "\tTrain Loss: 3.301 | Train PPL:  27.145\n",
            "\t Val. Loss: 4.749 |  Val. PPL: 115.513\n",
            "Epoch: 04 | Time: 3m 5s\n",
            "\tTrain Loss: 2.896 | Train PPL:  18.108\n",
            "\t Val. Loss: 4.722 |  Val. PPL: 112.341\n",
            "Epoch: 05 | Time: 3m 5s\n",
            "\tTrain Loss: 2.564 | Train PPL:  12.982\n",
            "\t Val. Loss: 4.679 |  Val. PPL: 107.706\n",
            "Epoch: 06 | Time: 3m 6s\n",
            "\tTrain Loss: 2.258 | Train PPL:   9.563\n",
            "\t Val. Loss: 4.662 |  Val. PPL: 105.815\n",
            "Epoch: 07 | Time: 3m 4s\n",
            "\tTrain Loss: 2.021 | Train PPL:   7.543\n",
            "\t Val. Loss: 4.687 |  Val. PPL: 108.548\n",
            "Epoch: 08 | Time: 3m 4s\n",
            "\tTrain Loss: 1.848 | Train PPL:   6.349\n",
            "\t Val. Loss: 4.626 |  Val. PPL: 102.147\n",
            "Epoch: 09 | Time: 3m 5s\n",
            "\tTrain Loss: 1.699 | Train PPL:   5.470\n",
            "\t Val. Loss: 4.794 |  Val. PPL: 120.778\n"
          ],
          "name": "stdout"
        },
        {
          "output_type": "error",
          "ename": "KeyboardInterrupt",
          "evalue": "ignored",
          "traceback": [
            "\u001b[0;31m---------------------------------------------------------------------------\u001b[0m",
            "\u001b[0;31mKeyboardInterrupt\u001b[0m                         Traceback (most recent call last)",
            "\u001b[0;32m<ipython-input-22-541fe627fd42>\u001b[0m in \u001b[0;36m<module>\u001b[0;34m()\u001b[0m\n\u001b[1;32m      8\u001b[0m     \u001b[0mstart_time\u001b[0m \u001b[0;34m=\u001b[0m \u001b[0mtime\u001b[0m\u001b[0;34m.\u001b[0m\u001b[0mtime\u001b[0m\u001b[0;34m(\u001b[0m\u001b[0;34m)\u001b[0m\u001b[0;34m\u001b[0m\u001b[0;34m\u001b[0m\u001b[0m\n\u001b[1;32m      9\u001b[0m \u001b[0;34m\u001b[0m\u001b[0m\n\u001b[0;32m---> 10\u001b[0;31m     \u001b[0mtrain_loss\u001b[0m \u001b[0;34m=\u001b[0m \u001b[0mtrain\u001b[0m\u001b[0;34m(\u001b[0m\u001b[0mmodel\u001b[0m\u001b[0;34m,\u001b[0m \u001b[0mtrain_iterator\u001b[0m\u001b[0;34m,\u001b[0m \u001b[0moptimizer\u001b[0m\u001b[0;34m,\u001b[0m \u001b[0mcriterion\u001b[0m\u001b[0;34m,\u001b[0m \u001b[0mCLIP\u001b[0m\u001b[0;34m)\u001b[0m\u001b[0;34m\u001b[0m\u001b[0;34m\u001b[0m\u001b[0m\n\u001b[0m\u001b[1;32m     11\u001b[0m     \u001b[0mvalid_loss\u001b[0m \u001b[0;34m=\u001b[0m \u001b[0mevaluate\u001b[0m\u001b[0;34m(\u001b[0m\u001b[0mmodel\u001b[0m\u001b[0;34m,\u001b[0m \u001b[0mvalid_iterator\u001b[0m\u001b[0;34m,\u001b[0m \u001b[0mcriterion\u001b[0m\u001b[0;34m)\u001b[0m\u001b[0;34m\u001b[0m\u001b[0;34m\u001b[0m\u001b[0m\n\u001b[1;32m     12\u001b[0m \u001b[0;34m\u001b[0m\u001b[0m\n",
            "\u001b[0;32m<ipython-input-21-06a41c284d27>\u001b[0m in \u001b[0;36mtrain\u001b[0;34m(model, iterator, optimizer, criterion, clip)\u001b[0m\n\u001b[1;32m     27\u001b[0m         \u001b[0mloss\u001b[0m \u001b[0;34m=\u001b[0m \u001b[0mcriterion\u001b[0m\u001b[0;34m(\u001b[0m\u001b[0moutput\u001b[0m\u001b[0;34m,\u001b[0m \u001b[0mtrg\u001b[0m\u001b[0;34m)\u001b[0m\u001b[0;34m\u001b[0m\u001b[0;34m\u001b[0m\u001b[0m\n\u001b[1;32m     28\u001b[0m \u001b[0;34m\u001b[0m\u001b[0m\n\u001b[0;32m---> 29\u001b[0;31m         \u001b[0mloss\u001b[0m\u001b[0;34m.\u001b[0m\u001b[0mbackward\u001b[0m\u001b[0;34m(\u001b[0m\u001b[0;34m)\u001b[0m\u001b[0;34m\u001b[0m\u001b[0;34m\u001b[0m\u001b[0m\n\u001b[0m\u001b[1;32m     30\u001b[0m \u001b[0;34m\u001b[0m\u001b[0m\n\u001b[1;32m     31\u001b[0m         \u001b[0mtorch\u001b[0m\u001b[0;34m.\u001b[0m\u001b[0mnn\u001b[0m\u001b[0;34m.\u001b[0m\u001b[0mutils\u001b[0m\u001b[0;34m.\u001b[0m\u001b[0mclip_grad_norm_\u001b[0m\u001b[0;34m(\u001b[0m\u001b[0mmodel\u001b[0m\u001b[0;34m.\u001b[0m\u001b[0mparameters\u001b[0m\u001b[0;34m(\u001b[0m\u001b[0;34m)\u001b[0m\u001b[0;34m,\u001b[0m \u001b[0mclip\u001b[0m\u001b[0;34m)\u001b[0m\u001b[0;34m\u001b[0m\u001b[0;34m\u001b[0m\u001b[0m\n",
            "\u001b[0;32m/usr/local/lib/python3.6/dist-packages/torch/tensor.py\u001b[0m in \u001b[0;36mbackward\u001b[0;34m(self, gradient, retain_graph, create_graph)\u001b[0m\n\u001b[1;32m    196\u001b[0m                 \u001b[0mproducts\u001b[0m\u001b[0;34m.\u001b[0m \u001b[0mDefaults\u001b[0m \u001b[0mto\u001b[0m\u001b[0;31m \u001b[0m\u001b[0;31m`\u001b[0m\u001b[0;31m`\u001b[0m\u001b[0;32mFalse\u001b[0m\u001b[0;31m`\u001b[0m\u001b[0;31m`\u001b[0m\u001b[0;34m.\u001b[0m\u001b[0;34m\u001b[0m\u001b[0;34m\u001b[0m\u001b[0m\n\u001b[1;32m    197\u001b[0m         \"\"\"\n\u001b[0;32m--> 198\u001b[0;31m         \u001b[0mtorch\u001b[0m\u001b[0;34m.\u001b[0m\u001b[0mautograd\u001b[0m\u001b[0;34m.\u001b[0m\u001b[0mbackward\u001b[0m\u001b[0;34m(\u001b[0m\u001b[0mself\u001b[0m\u001b[0;34m,\u001b[0m \u001b[0mgradient\u001b[0m\u001b[0;34m,\u001b[0m \u001b[0mretain_graph\u001b[0m\u001b[0;34m,\u001b[0m \u001b[0mcreate_graph\u001b[0m\u001b[0;34m)\u001b[0m\u001b[0;34m\u001b[0m\u001b[0;34m\u001b[0m\u001b[0m\n\u001b[0m\u001b[1;32m    199\u001b[0m \u001b[0;34m\u001b[0m\u001b[0m\n\u001b[1;32m    200\u001b[0m     \u001b[0;32mdef\u001b[0m \u001b[0mregister_hook\u001b[0m\u001b[0;34m(\u001b[0m\u001b[0mself\u001b[0m\u001b[0;34m,\u001b[0m \u001b[0mhook\u001b[0m\u001b[0;34m)\u001b[0m\u001b[0;34m:\u001b[0m\u001b[0;34m\u001b[0m\u001b[0;34m\u001b[0m\u001b[0m\n",
            "\u001b[0;32m/usr/local/lib/python3.6/dist-packages/torch/autograd/__init__.py\u001b[0m in \u001b[0;36mbackward\u001b[0;34m(tensors, grad_tensors, retain_graph, create_graph, grad_variables)\u001b[0m\n\u001b[1;32m     98\u001b[0m     Variable._execution_engine.run_backward(\n\u001b[1;32m     99\u001b[0m         \u001b[0mtensors\u001b[0m\u001b[0;34m,\u001b[0m \u001b[0mgrad_tensors\u001b[0m\u001b[0;34m,\u001b[0m \u001b[0mretain_graph\u001b[0m\u001b[0;34m,\u001b[0m \u001b[0mcreate_graph\u001b[0m\u001b[0;34m,\u001b[0m\u001b[0;34m\u001b[0m\u001b[0;34m\u001b[0m\u001b[0m\n\u001b[0;32m--> 100\u001b[0;31m         allow_unreachable=True)  # allow_unreachable flag\n\u001b[0m\u001b[1;32m    101\u001b[0m \u001b[0;34m\u001b[0m\u001b[0m\n\u001b[1;32m    102\u001b[0m \u001b[0;34m\u001b[0m\u001b[0m\n",
            "\u001b[0;31mKeyboardInterrupt\u001b[0m: "
          ]
        }
      ]
    },
    {
      "cell_type": "code",
      "metadata": {
        "id": "MCpv_JdP4H1T",
        "colab_type": "code",
        "colab": {}
      },
      "source": [
        "batch = next(iter(test_iterator))"
      ],
      "execution_count": 0,
      "outputs": []
    },
    {
      "cell_type": "code",
      "metadata": {
        "id": "iaoYldvM4NUh",
        "colab_type": "code",
        "outputId": "25ac78cb-c8a0-454e-a603-7e512c1da56d",
        "colab": {
          "base_uri": "https://localhost:8080/",
          "height": 35
        }
      },
      "source": [
        "%cd \"/content/drive/My Drive/MADE_2019/NLP_3\"\n",
        "\n",
        "import utils\n",
        "import imp\n",
        "\n",
        "imp.reload(utils)\n",
        "generate_translation = utils.generate_translation\n",
        "remove_tech_tokens = utils.remove_tech_tokens\n",
        "get_text = utils.get_text\n",
        "flatten = utils.flatten"
      ],
      "execution_count": 0,
      "outputs": [
        {
          "output_type": "stream",
          "text": [
            "/content/drive/My Drive/MADE_2019/NLP_3\n"
          ],
          "name": "stdout"
        }
      ]
    },
    {
      "cell_type": "code",
      "metadata": {
        "id": "871RXdP14N4w",
        "colab_type": "code",
        "outputId": "814ffdc3-312f-4d9e-b24e-7533781a7740",
        "colab": {
          "base_uri": "https://localhost:8080/",
          "height": 125
        }
      },
      "source": [
        "for idx in [1,2]:\n",
        "    src = batch.src[:, idx:idx+1]\n",
        "    trg = batch.trg[:, idx:idx+1]\n",
        "    generate_translation(src, trg, model, TRG.vocab)"
      ],
      "execution_count": 0,
      "outputs": [
        {
          "output_type": "stream",
          "text": [
            "Original: помимо этого , можно пользоваться услугами прачечной .\n",
            "Generated: в отеле предоставляются услуги прачечной .\n",
            "\n",
            "Original: поблизости предоставляется бесплатная парковка .\n",
            "Generated: рядом с отелем обустроена бесплатная парковка .\n",
            "\n"
          ],
          "name": "stdout"
        }
      ]
    },
    {
      "cell_type": "code",
      "metadata": {
        "id": "HR5mLU7_4OI9",
        "colab_type": "code",
        "outputId": "0da8d876-3cd6-4cfc-9fb5-ab298999c0c5",
        "colab": {
          "base_uri": "https://localhost:8080/",
          "height": 35
        }
      },
      "source": [
        "original_text = []\n",
        "generated_text = []\n",
        "model.eval()\n",
        "\n",
        "with torch.no_grad():\n",
        "\n",
        "    for i, batch in tqdm.tqdm(enumerate(test_iterator)):\n",
        "\n",
        "        src = batch.src\n",
        "        trg = batch.trg\n",
        "\n",
        "        output = model(src, trg, 0)\n",
        "        output = output.argmax(dim=-1)\n",
        "        \n",
        "        original_text.extend([get_text(x, TRG.vocab) for x in trg.cpu().numpy().T])\n",
        "        generated_text.extend([get_text(x, TRG.vocab) for x in output[1:].detach().cpu().numpy().T])\n"
      ],
      "execution_count": 0,
      "outputs": [
        {
          "output_type": "stream",
          "text": [
            "59it [00:08,  6.63it/s]\n"
          ],
          "name": "stderr"
        }
      ]
    },
    {
      "cell_type": "code",
      "metadata": {
        "id": "SM1KMt_l4OSg",
        "colab_type": "code",
        "outputId": "e6d0b724-fdd0-4c23-9e80-257d972fc0ee",
        "colab": {
          "base_uri": "https://localhost:8080/",
          "height": 35
        }
      },
      "source": [
        "corpus_bleu([[text] for text in original_text], generated_text) * 100"
      ],
      "execution_count": 0,
      "outputs": [
        {
          "output_type": "execute_result",
          "data": {
            "text/plain": [
              "27.97463881604319"
            ]
          },
          "metadata": {
            "tags": []
          },
          "execution_count": 28
        }
      ]
    },
    {
      "cell_type": "markdown",
      "metadata": {
        "id": "b2c19CFQUgb1",
        "colab_type": "text"
      },
      "source": [
        "Just great result. I guess I could get more with more sophisticated approach for training the model."
      ]
    },
    {
      "cell_type": "markdown",
      "metadata": {
        "id": "ChsAIl72TtCL",
        "colab_type": "text"
      },
      "source": [
        "##3. Another En-Ru Transformer model"
      ]
    },
    {
      "cell_type": "markdown",
      "metadata": {
        "id": "SZXeNAnNUxZ6",
        "colab_type": "text"
      },
      "source": [
        "The model is EN-RU Transform model from Facebook-FAIR's WMT'19 news translation task submission: https://github.com/pytorch/fairseq/blob/master/examples/wmt19/README.md. A very good point of this model is that it can be easily used via torch.hub."
      ]
    },
    {
      "cell_type": "code",
      "metadata": {
        "id": "5azJKDFdB8At",
        "colab_type": "code",
        "outputId": "21f89ca1-2dd0-457f-f86c-73832f421783",
        "colab": {
          "base_uri": "https://localhost:8080/",
          "height": 161
        }
      },
      "source": [
        "!pip install fastBPE sacremoses subword_nmt"
      ],
      "execution_count": 0,
      "outputs": [
        {
          "output_type": "stream",
          "text": [
            "Requirement already satisfied: fastBPE in /usr/local/lib/python3.6/dist-packages (0.1.0)\n",
            "Requirement already satisfied: sacremoses in /usr/local/lib/python3.6/dist-packages (0.0.43)\n",
            "Requirement already satisfied: subword_nmt in /usr/local/lib/python3.6/dist-packages (0.3.7)\n",
            "Requirement already satisfied: tqdm in /usr/local/lib/python3.6/dist-packages (from sacremoses) (4.41.1)\n",
            "Requirement already satisfied: six in /usr/local/lib/python3.6/dist-packages (from sacremoses) (1.12.0)\n",
            "Requirement already satisfied: regex in /usr/local/lib/python3.6/dist-packages (from sacremoses) (2019.12.20)\n",
            "Requirement already satisfied: click in /usr/local/lib/python3.6/dist-packages (from sacremoses) (7.1.2)\n",
            "Requirement already satisfied: joblib in /usr/local/lib/python3.6/dist-packages (from sacremoses) (0.15.1)\n"
          ],
          "name": "stdout"
        }
      ]
    },
    {
      "cell_type": "code",
      "metadata": {
        "id": "XM-sZWi84OhT",
        "colab_type": "code",
        "outputId": "cd2f4b28-6ec6-4648-b790-76c297591ad8",
        "colab": {
          "base_uri": "https://localhost:8080/",
          "height": 1000
        }
      },
      "source": [
        "import torch\n",
        "en2ru = torch.hub.load('pytorch/fairseq', 'transformer.wmt19.en-ru.single_model', tokenizer='moses', bpe='fastbpe')\n",
        "device = torch.device('cuda') if torch.cuda.is_available() else torch.device('cpu')\n",
        "en2ru.to(device)"
      ],
      "execution_count": 0,
      "outputs": [
        {
          "output_type": "stream",
          "text": [
            "Using cache found in /root/.cache/torch/hub/pytorch_fairseq_master\n"
          ],
          "name": "stderr"
        },
        {
          "output_type": "execute_result",
          "data": {
            "text/plain": [
              "GeneratorHubInterface(\n",
              "  (models): ModuleList(\n",
              "    (0): TransformerModel(\n",
              "      (encoder): TransformerEncoder(\n",
              "        (embed_tokens): Embedding(31640, 1024, padding_idx=1)\n",
              "        (embed_positions): SinusoidalPositionalEmbedding()\n",
              "        (layers): ModuleList(\n",
              "          (0): TransformerEncoderLayer(\n",
              "            (self_attn): MultiheadAttention(\n",
              "              (k_proj): Linear(in_features=1024, out_features=1024, bias=True)\n",
              "              (v_proj): Linear(in_features=1024, out_features=1024, bias=True)\n",
              "              (q_proj): Linear(in_features=1024, out_features=1024, bias=True)\n",
              "              (out_proj): Linear(in_features=1024, out_features=1024, bias=True)\n",
              "            )\n",
              "            (self_attn_layer_norm): LayerNorm((1024,), eps=1e-05, elementwise_affine=True)\n",
              "            (fc1): Linear(in_features=1024, out_features=8192, bias=True)\n",
              "            (fc2): Linear(in_features=8192, out_features=1024, bias=True)\n",
              "            (final_layer_norm): LayerNorm((1024,), eps=1e-05, elementwise_affine=True)\n",
              "          )\n",
              "          (1): TransformerEncoderLayer(\n",
              "            (self_attn): MultiheadAttention(\n",
              "              (k_proj): Linear(in_features=1024, out_features=1024, bias=True)\n",
              "              (v_proj): Linear(in_features=1024, out_features=1024, bias=True)\n",
              "              (q_proj): Linear(in_features=1024, out_features=1024, bias=True)\n",
              "              (out_proj): Linear(in_features=1024, out_features=1024, bias=True)\n",
              "            )\n",
              "            (self_attn_layer_norm): LayerNorm((1024,), eps=1e-05, elementwise_affine=True)\n",
              "            (fc1): Linear(in_features=1024, out_features=8192, bias=True)\n",
              "            (fc2): Linear(in_features=8192, out_features=1024, bias=True)\n",
              "            (final_layer_norm): LayerNorm((1024,), eps=1e-05, elementwise_affine=True)\n",
              "          )\n",
              "          (2): TransformerEncoderLayer(\n",
              "            (self_attn): MultiheadAttention(\n",
              "              (k_proj): Linear(in_features=1024, out_features=1024, bias=True)\n",
              "              (v_proj): Linear(in_features=1024, out_features=1024, bias=True)\n",
              "              (q_proj): Linear(in_features=1024, out_features=1024, bias=True)\n",
              "              (out_proj): Linear(in_features=1024, out_features=1024, bias=True)\n",
              "            )\n",
              "            (self_attn_layer_norm): LayerNorm((1024,), eps=1e-05, elementwise_affine=True)\n",
              "            (fc1): Linear(in_features=1024, out_features=8192, bias=True)\n",
              "            (fc2): Linear(in_features=8192, out_features=1024, bias=True)\n",
              "            (final_layer_norm): LayerNorm((1024,), eps=1e-05, elementwise_affine=True)\n",
              "          )\n",
              "          (3): TransformerEncoderLayer(\n",
              "            (self_attn): MultiheadAttention(\n",
              "              (k_proj): Linear(in_features=1024, out_features=1024, bias=True)\n",
              "              (v_proj): Linear(in_features=1024, out_features=1024, bias=True)\n",
              "              (q_proj): Linear(in_features=1024, out_features=1024, bias=True)\n",
              "              (out_proj): Linear(in_features=1024, out_features=1024, bias=True)\n",
              "            )\n",
              "            (self_attn_layer_norm): LayerNorm((1024,), eps=1e-05, elementwise_affine=True)\n",
              "            (fc1): Linear(in_features=1024, out_features=8192, bias=True)\n",
              "            (fc2): Linear(in_features=8192, out_features=1024, bias=True)\n",
              "            (final_layer_norm): LayerNorm((1024,), eps=1e-05, elementwise_affine=True)\n",
              "          )\n",
              "          (4): TransformerEncoderLayer(\n",
              "            (self_attn): MultiheadAttention(\n",
              "              (k_proj): Linear(in_features=1024, out_features=1024, bias=True)\n",
              "              (v_proj): Linear(in_features=1024, out_features=1024, bias=True)\n",
              "              (q_proj): Linear(in_features=1024, out_features=1024, bias=True)\n",
              "              (out_proj): Linear(in_features=1024, out_features=1024, bias=True)\n",
              "            )\n",
              "            (self_attn_layer_norm): LayerNorm((1024,), eps=1e-05, elementwise_affine=True)\n",
              "            (fc1): Linear(in_features=1024, out_features=8192, bias=True)\n",
              "            (fc2): Linear(in_features=8192, out_features=1024, bias=True)\n",
              "            (final_layer_norm): LayerNorm((1024,), eps=1e-05, elementwise_affine=True)\n",
              "          )\n",
              "          (5): TransformerEncoderLayer(\n",
              "            (self_attn): MultiheadAttention(\n",
              "              (k_proj): Linear(in_features=1024, out_features=1024, bias=True)\n",
              "              (v_proj): Linear(in_features=1024, out_features=1024, bias=True)\n",
              "              (q_proj): Linear(in_features=1024, out_features=1024, bias=True)\n",
              "              (out_proj): Linear(in_features=1024, out_features=1024, bias=True)\n",
              "            )\n",
              "            (self_attn_layer_norm): LayerNorm((1024,), eps=1e-05, elementwise_affine=True)\n",
              "            (fc1): Linear(in_features=1024, out_features=8192, bias=True)\n",
              "            (fc2): Linear(in_features=8192, out_features=1024, bias=True)\n",
              "            (final_layer_norm): LayerNorm((1024,), eps=1e-05, elementwise_affine=True)\n",
              "          )\n",
              "        )\n",
              "      )\n",
              "      (decoder): TransformerDecoder(\n",
              "        (embed_tokens): Embedding(31232, 1024, padding_idx=1)\n",
              "        (embed_positions): SinusoidalPositionalEmbedding()\n",
              "        (layers): ModuleList(\n",
              "          (0): TransformerDecoderLayer(\n",
              "            (self_attn): MultiheadAttention(\n",
              "              (k_proj): Linear(in_features=1024, out_features=1024, bias=True)\n",
              "              (v_proj): Linear(in_features=1024, out_features=1024, bias=True)\n",
              "              (q_proj): Linear(in_features=1024, out_features=1024, bias=True)\n",
              "              (out_proj): Linear(in_features=1024, out_features=1024, bias=True)\n",
              "            )\n",
              "            (self_attn_layer_norm): LayerNorm((1024,), eps=1e-05, elementwise_affine=True)\n",
              "            (encoder_attn): MultiheadAttention(\n",
              "              (k_proj): Linear(in_features=1024, out_features=1024, bias=True)\n",
              "              (v_proj): Linear(in_features=1024, out_features=1024, bias=True)\n",
              "              (q_proj): Linear(in_features=1024, out_features=1024, bias=True)\n",
              "              (out_proj): Linear(in_features=1024, out_features=1024, bias=True)\n",
              "            )\n",
              "            (encoder_attn_layer_norm): LayerNorm((1024,), eps=1e-05, elementwise_affine=True)\n",
              "            (fc1): Linear(in_features=1024, out_features=4096, bias=True)\n",
              "            (fc2): Linear(in_features=4096, out_features=1024, bias=True)\n",
              "            (final_layer_norm): LayerNorm((1024,), eps=1e-05, elementwise_affine=True)\n",
              "          )\n",
              "          (1): TransformerDecoderLayer(\n",
              "            (self_attn): MultiheadAttention(\n",
              "              (k_proj): Linear(in_features=1024, out_features=1024, bias=True)\n",
              "              (v_proj): Linear(in_features=1024, out_features=1024, bias=True)\n",
              "              (q_proj): Linear(in_features=1024, out_features=1024, bias=True)\n",
              "              (out_proj): Linear(in_features=1024, out_features=1024, bias=True)\n",
              "            )\n",
              "            (self_attn_layer_norm): LayerNorm((1024,), eps=1e-05, elementwise_affine=True)\n",
              "            (encoder_attn): MultiheadAttention(\n",
              "              (k_proj): Linear(in_features=1024, out_features=1024, bias=True)\n",
              "              (v_proj): Linear(in_features=1024, out_features=1024, bias=True)\n",
              "              (q_proj): Linear(in_features=1024, out_features=1024, bias=True)\n",
              "              (out_proj): Linear(in_features=1024, out_features=1024, bias=True)\n",
              "            )\n",
              "            (encoder_attn_layer_norm): LayerNorm((1024,), eps=1e-05, elementwise_affine=True)\n",
              "            (fc1): Linear(in_features=1024, out_features=4096, bias=True)\n",
              "            (fc2): Linear(in_features=4096, out_features=1024, bias=True)\n",
              "            (final_layer_norm): LayerNorm((1024,), eps=1e-05, elementwise_affine=True)\n",
              "          )\n",
              "          (2): TransformerDecoderLayer(\n",
              "            (self_attn): MultiheadAttention(\n",
              "              (k_proj): Linear(in_features=1024, out_features=1024, bias=True)\n",
              "              (v_proj): Linear(in_features=1024, out_features=1024, bias=True)\n",
              "              (q_proj): Linear(in_features=1024, out_features=1024, bias=True)\n",
              "              (out_proj): Linear(in_features=1024, out_features=1024, bias=True)\n",
              "            )\n",
              "            (self_attn_layer_norm): LayerNorm((1024,), eps=1e-05, elementwise_affine=True)\n",
              "            (encoder_attn): MultiheadAttention(\n",
              "              (k_proj): Linear(in_features=1024, out_features=1024, bias=True)\n",
              "              (v_proj): Linear(in_features=1024, out_features=1024, bias=True)\n",
              "              (q_proj): Linear(in_features=1024, out_features=1024, bias=True)\n",
              "              (out_proj): Linear(in_features=1024, out_features=1024, bias=True)\n",
              "            )\n",
              "            (encoder_attn_layer_norm): LayerNorm((1024,), eps=1e-05, elementwise_affine=True)\n",
              "            (fc1): Linear(in_features=1024, out_features=4096, bias=True)\n",
              "            (fc2): Linear(in_features=4096, out_features=1024, bias=True)\n",
              "            (final_layer_norm): LayerNorm((1024,), eps=1e-05, elementwise_affine=True)\n",
              "          )\n",
              "          (3): TransformerDecoderLayer(\n",
              "            (self_attn): MultiheadAttention(\n",
              "              (k_proj): Linear(in_features=1024, out_features=1024, bias=True)\n",
              "              (v_proj): Linear(in_features=1024, out_features=1024, bias=True)\n",
              "              (q_proj): Linear(in_features=1024, out_features=1024, bias=True)\n",
              "              (out_proj): Linear(in_features=1024, out_features=1024, bias=True)\n",
              "            )\n",
              "            (self_attn_layer_norm): LayerNorm((1024,), eps=1e-05, elementwise_affine=True)\n",
              "            (encoder_attn): MultiheadAttention(\n",
              "              (k_proj): Linear(in_features=1024, out_features=1024, bias=True)\n",
              "              (v_proj): Linear(in_features=1024, out_features=1024, bias=True)\n",
              "              (q_proj): Linear(in_features=1024, out_features=1024, bias=True)\n",
              "              (out_proj): Linear(in_features=1024, out_features=1024, bias=True)\n",
              "            )\n",
              "            (encoder_attn_layer_norm): LayerNorm((1024,), eps=1e-05, elementwise_affine=True)\n",
              "            (fc1): Linear(in_features=1024, out_features=4096, bias=True)\n",
              "            (fc2): Linear(in_features=4096, out_features=1024, bias=True)\n",
              "            (final_layer_norm): LayerNorm((1024,), eps=1e-05, elementwise_affine=True)\n",
              "          )\n",
              "          (4): TransformerDecoderLayer(\n",
              "            (self_attn): MultiheadAttention(\n",
              "              (k_proj): Linear(in_features=1024, out_features=1024, bias=True)\n",
              "              (v_proj): Linear(in_features=1024, out_features=1024, bias=True)\n",
              "              (q_proj): Linear(in_features=1024, out_features=1024, bias=True)\n",
              "              (out_proj): Linear(in_features=1024, out_features=1024, bias=True)\n",
              "            )\n",
              "            (self_attn_layer_norm): LayerNorm((1024,), eps=1e-05, elementwise_affine=True)\n",
              "            (encoder_attn): MultiheadAttention(\n",
              "              (k_proj): Linear(in_features=1024, out_features=1024, bias=True)\n",
              "              (v_proj): Linear(in_features=1024, out_features=1024, bias=True)\n",
              "              (q_proj): Linear(in_features=1024, out_features=1024, bias=True)\n",
              "              (out_proj): Linear(in_features=1024, out_features=1024, bias=True)\n",
              "            )\n",
              "            (encoder_attn_layer_norm): LayerNorm((1024,), eps=1e-05, elementwise_affine=True)\n",
              "            (fc1): Linear(in_features=1024, out_features=4096, bias=True)\n",
              "            (fc2): Linear(in_features=4096, out_features=1024, bias=True)\n",
              "            (final_layer_norm): LayerNorm((1024,), eps=1e-05, elementwise_affine=True)\n",
              "          )\n",
              "          (5): TransformerDecoderLayer(\n",
              "            (self_attn): MultiheadAttention(\n",
              "              (k_proj): Linear(in_features=1024, out_features=1024, bias=True)\n",
              "              (v_proj): Linear(in_features=1024, out_features=1024, bias=True)\n",
              "              (q_proj): Linear(in_features=1024, out_features=1024, bias=True)\n",
              "              (out_proj): Linear(in_features=1024, out_features=1024, bias=True)\n",
              "            )\n",
              "            (self_attn_layer_norm): LayerNorm((1024,), eps=1e-05, elementwise_affine=True)\n",
              "            (encoder_attn): MultiheadAttention(\n",
              "              (k_proj): Linear(in_features=1024, out_features=1024, bias=True)\n",
              "              (v_proj): Linear(in_features=1024, out_features=1024, bias=True)\n",
              "              (q_proj): Linear(in_features=1024, out_features=1024, bias=True)\n",
              "              (out_proj): Linear(in_features=1024, out_features=1024, bias=True)\n",
              "            )\n",
              "            (encoder_attn_layer_norm): LayerNorm((1024,), eps=1e-05, elementwise_affine=True)\n",
              "            (fc1): Linear(in_features=1024, out_features=4096, bias=True)\n",
              "            (fc2): Linear(in_features=4096, out_features=1024, bias=True)\n",
              "            (final_layer_norm): LayerNorm((1024,), eps=1e-05, elementwise_affine=True)\n",
              "          )\n",
              "        )\n",
              "        (output_projection): Linear(in_features=1024, out_features=31232, bias=False)\n",
              "      )\n",
              "    )\n",
              "  )\n",
              ")"
            ]
          },
          "metadata": {
            "tags": []
          },
          "execution_count": 14
        }
      ]
    },
    {
      "cell_type": "code",
      "metadata": {
        "id": "JxU0ix2p46o4",
        "colab_type": "code",
        "colab": {}
      },
      "source": [
        "def translate_example(model, example):\n",
        "  # Manually tokenize:\n",
        "  src_toks = ' '.join(example.src)\n",
        "  # apply BPE:\n",
        "  src_bpe = model.apply_bpe(src_toks)\n",
        "  # binarize:\n",
        "  src_bin = model.binarize(src_bpe)\n",
        "  # Generate five translations with top-k sampling:\n",
        "  trg_bin = model.generate(src_bin, beam=5, sampling=True, sampling_topk=20)\n",
        "\n",
        "  # Convert one of the samples to a string and detokenize\n",
        "  trg_sample = trg_bin[0]['tokens']\n",
        "  trg_bpe = model.string(trg_sample)\n",
        "  trg_toks = model.remove_bpe(trg_bpe)\n",
        "  trg = trg_toks.split()\n",
        "  return trg\n",
        "def remove_bad(words):\n",
        "  result = [word for word in words if word != \"&quot;\"]\n",
        "  i = 0\n",
        "  while i < len(result):\n",
        "    if result[i] == '@-@' and i + 1 < len(result):\n",
        "      result[i-1:i+2] = [result[i-1] + '-' + result[i+1]]\n",
        "    i += 1\n",
        "  return result"
      ],
      "execution_count": 0,
      "outputs": []
    },
    {
      "cell_type": "code",
      "metadata": {
        "id": "5qDGSJIJBGXi",
        "colab_type": "code",
        "outputId": "e154ce3a-1c59-4510-9775-c87fbae34719",
        "colab": {
          "base_uri": "https://localhost:8080/",
          "height": 53
        }
      },
      "source": [
        "print(test_data.examples[5].src)\n",
        "print(translate_example(en2ru, test_data.examples[5]))"
      ],
      "execution_count": 0,
      "outputs": [
        {
          "output_type": "stream",
          "text": [
            "['it', 'offers', 'accommodation', 'with', 'free', 'wi', '-', 'fi', 'and', 'private', 'parking', '.']\n",
            "['Предлагает', 'проживание', 'с', 'бесплатным', 'wi', '@-@', 'fi', 'и', 'частная', 'парковка', '.']\n"
          ],
          "name": "stdout"
        }
      ]
    },
    {
      "cell_type": "code",
      "metadata": {
        "id": "aVyYsx1z5fLD",
        "colab_type": "code",
        "colab": {}
      },
      "source": [
        "original_text  = [each_text.trg for each_text in test_data.examples]\n",
        "generated_text = [translate_example(en2ru, each_text) for each_text in test_data.examples]"
      ],
      "execution_count": 0,
      "outputs": []
    },
    {
      "cell_type": "code",
      "metadata": {
        "id": "7xGP1RYKBTMQ",
        "colab_type": "code",
        "outputId": "4943832a-a0be-435b-92dd-df3a34c72ed0",
        "colab": {
          "base_uri": "https://localhost:8080/",
          "height": 397
        }
      },
      "source": [
        "for i in range(10):\n",
        "  print(original_text[i])\n",
        "  print(generated_text[i])"
      ],
      "execution_count": 0,
      "outputs": [
        {
          "output_type": "stream",
          "text": [
            "['к', 'услугам', 'гостей', 'бар', '.']\n",
            "['Гости', 'могут', 'воспользоваться', 'баром', 'на', 'территории', 'отеля', '.']\n",
            "['также', 'можно', 'воспользоваться', 'гладильными', 'услугами', 'и', 'прачечной', '.']\n",
            "['Помимо', 'этого', ',', 'в', 'доме', 'есть', 'лоджия', ',', 'гладильная', 'доска', 'и', 'стиральное', 'оборудование', '.']\n",
            "['номера', 'с', 'паркетными', 'полами', 'оформлены', 'в', 'тирольском', 'стиле', 'и', 'обставлены', 'мебелью', 'из', 'светлого', 'дерева', '.']\n",
            "['Тирольские', 'номера', 'оснащены', 'легкой', 'деревянной', 'мебелью', 'и', 'паркетными', 'полами', '.']\n",
            "['все', 'номера', 'оснащены', 'телевизором', 'с', 'плоским', 'экраном', 'и', 'кабельными', 'каналами', ',', 'принадлежностями', 'для', 'кофе', 'и', 'холодильником', 'с', 'бесплатной', 'родниковой', 'водой', '.']\n",
            "['В', 'каждой', 'комнате', 'телевизор', 'с', 'плоским', 'экраном', ',', 'кофеварка', 'и', 'холодильник', 'с', 'горячей', 'родниковой', 'водой', '.']\n",
            "['гостям', 'предлагается', 'размещение', 'в', 'номерах', 'с', 'кондиционером', 'и', 'телевизором', 'с', 'кабельными', 'каналами', '.']\n",
            "['В', 'каждом', 'из', 'номеров', 'есть', 'телевизор', ',', 'кондиционер', 'и', 'кабельные', 'каналы', '.']\n",
            "['к', 'услугам', 'гостей', 'номера', 'с', 'бесплатным', 'wi', '-', 'fi', 'и', 'частная', 'парковка', '.']\n",
            "['он', 'предлагает', 'проживание', 'с', 'бесплатным', 'Wi', '@-@', 'Fi', 'и', 'частную', 'парковку', '.']\n",
            "['в', 'кафе', 'подают', 'блюда', 'западной', 'и', 'китайской', 'кухни', ',', 'а', 'в', 'уютном', 'лаундже', 'в', 'лобби', 'можно', 'заказать', 'легкие', 'закуски', 'и', 'коктейли', '.']\n",
            "['В', 'кафе', 'можно', 'попробовать', 'западные', 'и', 'китайские', 'блюда', ',', 'а', 'в', 'лобби', 'уютно', 'расположились', 'легкие', 'закуски', 'и', 'коктейли', '.']\n",
            "['в', 'числе', 'удобств', 'всех', 'номеров', '-', 'кондиционер', ',', 'мини', '-', 'бар', ',', 'гостиный', 'уголок', 'и', 'телевизор', 'со', 'спутниковыми', 'каналами', '.']\n",
            "['все', 'номера', 'оснащены', 'кондиционером', ',', 'мини', '@-@', 'баром', ',', 'гостиной', 'зоной', 'и', 'телевизором', 'со', 'спутниковыми', 'каналами', '.']\n",
            "['в', 'окрестностях', 'гостевого', 'дома', 'можно', 'заняться', 'подводным', 'плаванием', 'и', 'рыбалкой', '.']\n",
            "['Рядом', 'можно', 'заниматься', 'сноркелингом', 'и', 'рыбалкой', '.']\n",
            "['на', 'кухне', 'имеется', 'плита', ',', 'микроволновая', 'печь', ',', 'холодильник', ',', 'кофемашина', 'и', 'бойлер', 'для', 'воды', '.']\n",
            "['На', 'кухне', 'есть', 'плита', ',', 'микроволновка', ',', 'холодильник', ',', 'водонагреватель', 'и', 'кофемашина', '.']\n"
          ],
          "name": "stdout"
        }
      ]
    },
    {
      "cell_type": "code",
      "metadata": {
        "id": "Q7TSypG85mbZ",
        "colab_type": "code",
        "outputId": "9a0e94e1-94c6-45c1-ab79-ddb7cf239864",
        "colab": {
          "base_uri": "https://localhost:8080/",
          "height": 35
        }
      },
      "source": [
        "corpus_bleu([[text] for text in original_text], generated_text) * 100"
      ],
      "execution_count": 0,
      "outputs": [
        {
          "output_type": "execute_result",
          "data": {
            "text/plain": [
              "16.45585234403999"
            ]
          },
          "metadata": {
            "tags": []
          },
          "execution_count": 21
        }
      ]
    },
    {
      "cell_type": "markdown",
      "metadata": {
        "id": "ZYTGWK0bvv1-",
        "colab_type": "text"
      },
      "source": [
        "Good, but not an exceptional result. If to train more, one could obtain better score."
      ]
    },
    {
      "cell_type": "markdown",
      "metadata": {
        "id": "xUzhoCFhb2HC",
        "colab_type": "text"
      },
      "source": [
        "## 4. Conclusions"
      ]
    },
    {
      "cell_type": "markdown",
      "metadata": {
        "id": "45UKu5IPb8gL",
        "colab_type": "text"
      },
      "source": [
        "* Two Transformer pre-trained and one Seq2Seq network were tested;\n",
        "\n",
        "* Pre-trained gave a good score, especially taking in account, that the models hadn't known anything about the dataset. If to continue training them with data from the dataset, they could give even better results;\n",
        "\n",
        "* Seq2Seq with attentions gave better resuls than pre-trained models, because the models were trained on more wide and less specialized vocabulary. The Seq2Seq network were trained on more specific vocabulary, so knowns it better, i.e. is someway biased in means of the vocabulary;\n",
        "\n",
        "* I think it would be a productive way to learn the pretrained model with the data and see how it improves score. I also would like to try different approches to learn Seq2Seq network to understand if one can get better result this way;\n",
        "\n",
        "* The best BLEU score of 28 was obtained with the Seq2Seq newtwok with attention."
      ]
    },
    {
      "cell_type": "code",
      "metadata": {
        "id": "jYDNJkfoitWL",
        "colab_type": "code",
        "colab": {}
      },
      "source": [
        ""
      ],
      "execution_count": 0,
      "outputs": []
    }
  ]
}